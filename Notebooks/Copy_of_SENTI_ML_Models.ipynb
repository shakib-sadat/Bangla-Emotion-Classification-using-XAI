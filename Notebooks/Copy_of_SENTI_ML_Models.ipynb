{
  "nbformat": 4,
  "nbformat_minor": 0,
  "metadata": {
    "colab": {
      "provenance": []
    },
    "kernelspec": {
      "name": "python3",
      "display_name": "Python 3"
    },
    "language_info": {
      "name": "python"
    }
  },
  "cells": [
    {
      "cell_type": "code",
      "execution_count": null,
      "metadata": {
        "colab": {
          "base_uri": "https://localhost:8080/"
        },
        "id": "EbhU9Tcbw99f",
        "outputId": "336b8b42-1384-488c-d663-1cbd76cfa7ba"
      },
      "outputs": [
        {
          "output_type": "stream",
          "name": "stdout",
          "text": [
            "Drive already mounted at /content/drive; to attempt to forcibly remount, call drive.mount(\"/content/drive\", force_remount=True).\n"
          ]
        }
      ],
      "source": [
        "from google.colab import drive\n",
        "drive.mount('/content/drive')"
      ]
    },
    {
      "cell_type": "code",
      "source": [
        "import re\n",
        "import pickle\n",
        "import string\n",
        "import pandas as pd\n",
        "import numpy as np\n",
        "import matplotlib.pyplot as plt\n",
        "path = '/content/drive/MyDrive/Dataset/'\n",
        "import seaborn as sns"
      ],
      "metadata": {
        "id": "Tq0iPDSJyB8s"
      },
      "execution_count": null,
      "outputs": []
    },
    {
      "cell_type": "code",
      "source": [
        "dataset =pd.read_excel('/content/combined_dataset.xlsx')\n",
        "\n",
        "\n",
        "dataset = dataset.iloc[:, :4]"
      ],
      "metadata": {
        "id": "8YBAHD5kxdhQ"
      },
      "execution_count": null,
      "outputs": []
    },
    {
      "cell_type": "code",
      "source": [
        "dataset.tail()"
      ],
      "metadata": {
        "colab": {
          "base_uri": "https://localhost:8080/",
          "height": 206
        },
        "id": "pasoMjbp5JZG",
        "outputId": "b3c6a334-e807-43e0-954d-377ac50b5a61"
      },
      "execution_count": null,
      "outputs": [
        {
          "output_type": "execute_result",
          "data": {
            "text/plain": [
              "                                                 comment comment_type\n",
              "42599  দেখতে দেখতে ভালবাসার এক বছর পূর্ণ হলো সবকিছুর ...          joy\n",
              "42600  সিন্টারক্লাসের জন্য একটি নতুন ব্যাগ এবং বেকিং ...     surprise\n",
              "42601  আমি তাকে জিজ্ঞাসা করলাম সে কি তার মূল্যবান কুক...          joy\n",
              "42602  ইরানের ক্ষেপণাস্ত্রের হামলায় কয়েক ঘণ্টা পুরো ব...         fear\n",
              "42603  আমি লেখক হিসাবে আমার দক্ষতার প্রতি আত্মবিশ্বাস...          joy"
            ],
            "text/html": [
              "\n",
              "  <div id=\"df-a1b938d1-c6bf-4215-b3f4-3f96315943f0\" class=\"colab-df-container\">\n",
              "    <div>\n",
              "<style scoped>\n",
              "    .dataframe tbody tr th:only-of-type {\n",
              "        vertical-align: middle;\n",
              "    }\n",
              "\n",
              "    .dataframe tbody tr th {\n",
              "        vertical-align: top;\n",
              "    }\n",
              "\n",
              "    .dataframe thead th {\n",
              "        text-align: right;\n",
              "    }\n",
              "</style>\n",
              "<table border=\"1\" class=\"dataframe\">\n",
              "  <thead>\n",
              "    <tr style=\"text-align: right;\">\n",
              "      <th></th>\n",
              "      <th>comment</th>\n",
              "      <th>comment_type</th>\n",
              "    </tr>\n",
              "  </thead>\n",
              "  <tbody>\n",
              "    <tr>\n",
              "      <th>42599</th>\n",
              "      <td>দেখতে দেখতে ভালবাসার এক বছর পূর্ণ হলো সবকিছুর ...</td>\n",
              "      <td>joy</td>\n",
              "    </tr>\n",
              "    <tr>\n",
              "      <th>42600</th>\n",
              "      <td>সিন্টারক্লাসের জন্য একটি নতুন ব্যাগ এবং বেকিং ...</td>\n",
              "      <td>surprise</td>\n",
              "    </tr>\n",
              "    <tr>\n",
              "      <th>42601</th>\n",
              "      <td>আমি তাকে জিজ্ঞাসা করলাম সে কি তার মূল্যবান কুক...</td>\n",
              "      <td>joy</td>\n",
              "    </tr>\n",
              "    <tr>\n",
              "      <th>42602</th>\n",
              "      <td>ইরানের ক্ষেপণাস্ত্রের হামলায় কয়েক ঘণ্টা পুরো ব...</td>\n",
              "      <td>fear</td>\n",
              "    </tr>\n",
              "    <tr>\n",
              "      <th>42603</th>\n",
              "      <td>আমি লেখক হিসাবে আমার দক্ষতার প্রতি আত্মবিশ্বাস...</td>\n",
              "      <td>joy</td>\n",
              "    </tr>\n",
              "  </tbody>\n",
              "</table>\n",
              "</div>\n",
              "    <div class=\"colab-df-buttons\">\n",
              "\n",
              "  <div class=\"colab-df-container\">\n",
              "    <button class=\"colab-df-convert\" onclick=\"convertToInteractive('df-a1b938d1-c6bf-4215-b3f4-3f96315943f0')\"\n",
              "            title=\"Convert this dataframe to an interactive table.\"\n",
              "            style=\"display:none;\">\n",
              "\n",
              "  <svg xmlns=\"http://www.w3.org/2000/svg\" height=\"24px\" viewBox=\"0 -960 960 960\">\n",
              "    <path d=\"M120-120v-720h720v720H120Zm60-500h600v-160H180v160Zm220 220h160v-160H400v160Zm0 220h160v-160H400v160ZM180-400h160v-160H180v160Zm440 0h160v-160H620v160ZM180-180h160v-160H180v160Zm440 0h160v-160H620v160Z\"/>\n",
              "  </svg>\n",
              "    </button>\n",
              "\n",
              "  <style>\n",
              "    .colab-df-container {\n",
              "      display:flex;\n",
              "      gap: 12px;\n",
              "    }\n",
              "\n",
              "    .colab-df-convert {\n",
              "      background-color: #E8F0FE;\n",
              "      border: none;\n",
              "      border-radius: 50%;\n",
              "      cursor: pointer;\n",
              "      display: none;\n",
              "      fill: #1967D2;\n",
              "      height: 32px;\n",
              "      padding: 0 0 0 0;\n",
              "      width: 32px;\n",
              "    }\n",
              "\n",
              "    .colab-df-convert:hover {\n",
              "      background-color: #E2EBFA;\n",
              "      box-shadow: 0px 1px 2px rgba(60, 64, 67, 0.3), 0px 1px 3px 1px rgba(60, 64, 67, 0.15);\n",
              "      fill: #174EA6;\n",
              "    }\n",
              "\n",
              "    .colab-df-buttons div {\n",
              "      margin-bottom: 4px;\n",
              "    }\n",
              "\n",
              "    [theme=dark] .colab-df-convert {\n",
              "      background-color: #3B4455;\n",
              "      fill: #D2E3FC;\n",
              "    }\n",
              "\n",
              "    [theme=dark] .colab-df-convert:hover {\n",
              "      background-color: #434B5C;\n",
              "      box-shadow: 0px 1px 3px 1px rgba(0, 0, 0, 0.15);\n",
              "      filter: drop-shadow(0px 1px 2px rgba(0, 0, 0, 0.3));\n",
              "      fill: #FFFFFF;\n",
              "    }\n",
              "  </style>\n",
              "\n",
              "    <script>\n",
              "      const buttonEl =\n",
              "        document.querySelector('#df-a1b938d1-c6bf-4215-b3f4-3f96315943f0 button.colab-df-convert');\n",
              "      buttonEl.style.display =\n",
              "        google.colab.kernel.accessAllowed ? 'block' : 'none';\n",
              "\n",
              "      async function convertToInteractive(key) {\n",
              "        const element = document.querySelector('#df-a1b938d1-c6bf-4215-b3f4-3f96315943f0');\n",
              "        const dataTable =\n",
              "          await google.colab.kernel.invokeFunction('convertToInteractive',\n",
              "                                                    [key], {});\n",
              "        if (!dataTable) return;\n",
              "\n",
              "        const docLinkHtml = 'Like what you see? Visit the ' +\n",
              "          '<a target=\"_blank\" href=https://colab.research.google.com/notebooks/data_table.ipynb>data table notebook</a>'\n",
              "          + ' to learn more about interactive tables.';\n",
              "        element.innerHTML = '';\n",
              "        dataTable['output_type'] = 'display_data';\n",
              "        await google.colab.output.renderOutput(dataTable, element);\n",
              "        const docLink = document.createElement('div');\n",
              "        docLink.innerHTML = docLinkHtml;\n",
              "        element.appendChild(docLink);\n",
              "      }\n",
              "    </script>\n",
              "  </div>\n",
              "\n",
              "\n",
              "<div id=\"df-050691e9-376b-4a90-93e3-d28f13611ce4\">\n",
              "  <button class=\"colab-df-quickchart\" onclick=\"quickchart('df-050691e9-376b-4a90-93e3-d28f13611ce4')\"\n",
              "            title=\"Suggest charts\"\n",
              "            style=\"display:none;\">\n",
              "\n",
              "<svg xmlns=\"http://www.w3.org/2000/svg\" height=\"24px\"viewBox=\"0 0 24 24\"\n",
              "     width=\"24px\">\n",
              "    <g>\n",
              "        <path d=\"M19 3H5c-1.1 0-2 .9-2 2v14c0 1.1.9 2 2 2h14c1.1 0 2-.9 2-2V5c0-1.1-.9-2-2-2zM9 17H7v-7h2v7zm4 0h-2V7h2v10zm4 0h-2v-4h2v4z\"/>\n",
              "    </g>\n",
              "</svg>\n",
              "  </button>\n",
              "\n",
              "<style>\n",
              "  .colab-df-quickchart {\n",
              "      --bg-color: #E8F0FE;\n",
              "      --fill-color: #1967D2;\n",
              "      --hover-bg-color: #E2EBFA;\n",
              "      --hover-fill-color: #174EA6;\n",
              "      --disabled-fill-color: #AAA;\n",
              "      --disabled-bg-color: #DDD;\n",
              "  }\n",
              "\n",
              "  [theme=dark] .colab-df-quickchart {\n",
              "      --bg-color: #3B4455;\n",
              "      --fill-color: #D2E3FC;\n",
              "      --hover-bg-color: #434B5C;\n",
              "      --hover-fill-color: #FFFFFF;\n",
              "      --disabled-bg-color: #3B4455;\n",
              "      --disabled-fill-color: #666;\n",
              "  }\n",
              "\n",
              "  .colab-df-quickchart {\n",
              "    background-color: var(--bg-color);\n",
              "    border: none;\n",
              "    border-radius: 50%;\n",
              "    cursor: pointer;\n",
              "    display: none;\n",
              "    fill: var(--fill-color);\n",
              "    height: 32px;\n",
              "    padding: 0;\n",
              "    width: 32px;\n",
              "  }\n",
              "\n",
              "  .colab-df-quickchart:hover {\n",
              "    background-color: var(--hover-bg-color);\n",
              "    box-shadow: 0 1px 2px rgba(60, 64, 67, 0.3), 0 1px 3px 1px rgba(60, 64, 67, 0.15);\n",
              "    fill: var(--button-hover-fill-color);\n",
              "  }\n",
              "\n",
              "  .colab-df-quickchart-complete:disabled,\n",
              "  .colab-df-quickchart-complete:disabled:hover {\n",
              "    background-color: var(--disabled-bg-color);\n",
              "    fill: var(--disabled-fill-color);\n",
              "    box-shadow: none;\n",
              "  }\n",
              "\n",
              "  .colab-df-spinner {\n",
              "    border: 2px solid var(--fill-color);\n",
              "    border-color: transparent;\n",
              "    border-bottom-color: var(--fill-color);\n",
              "    animation:\n",
              "      spin 1s steps(1) infinite;\n",
              "  }\n",
              "\n",
              "  @keyframes spin {\n",
              "    0% {\n",
              "      border-color: transparent;\n",
              "      border-bottom-color: var(--fill-color);\n",
              "      border-left-color: var(--fill-color);\n",
              "    }\n",
              "    20% {\n",
              "      border-color: transparent;\n",
              "      border-left-color: var(--fill-color);\n",
              "      border-top-color: var(--fill-color);\n",
              "    }\n",
              "    30% {\n",
              "      border-color: transparent;\n",
              "      border-left-color: var(--fill-color);\n",
              "      border-top-color: var(--fill-color);\n",
              "      border-right-color: var(--fill-color);\n",
              "    }\n",
              "    40% {\n",
              "      border-color: transparent;\n",
              "      border-right-color: var(--fill-color);\n",
              "      border-top-color: var(--fill-color);\n",
              "    }\n",
              "    60% {\n",
              "      border-color: transparent;\n",
              "      border-right-color: var(--fill-color);\n",
              "    }\n",
              "    80% {\n",
              "      border-color: transparent;\n",
              "      border-right-color: var(--fill-color);\n",
              "      border-bottom-color: var(--fill-color);\n",
              "    }\n",
              "    90% {\n",
              "      border-color: transparent;\n",
              "      border-bottom-color: var(--fill-color);\n",
              "    }\n",
              "  }\n",
              "</style>\n",
              "\n",
              "  <script>\n",
              "    async function quickchart(key) {\n",
              "      const quickchartButtonEl =\n",
              "        document.querySelector('#' + key + ' button');\n",
              "      quickchartButtonEl.disabled = true;  // To prevent multiple clicks.\n",
              "      quickchartButtonEl.classList.add('colab-df-spinner');\n",
              "      try {\n",
              "        const charts = await google.colab.kernel.invokeFunction(\n",
              "            'suggestCharts', [key], {});\n",
              "      } catch (error) {\n",
              "        console.error('Error during call to suggestCharts:', error);\n",
              "      }\n",
              "      quickchartButtonEl.classList.remove('colab-df-spinner');\n",
              "      quickchartButtonEl.classList.add('colab-df-quickchart-complete');\n",
              "    }\n",
              "    (() => {\n",
              "      let quickchartButtonEl =\n",
              "        document.querySelector('#df-050691e9-376b-4a90-93e3-d28f13611ce4 button');\n",
              "      quickchartButtonEl.style.display =\n",
              "        google.colab.kernel.accessAllowed ? 'block' : 'none';\n",
              "    })();\n",
              "  </script>\n",
              "</div>\n",
              "\n",
              "    </div>\n",
              "  </div>\n"
            ],
            "application/vnd.google.colaboratory.intrinsic+json": {
              "type": "dataframe",
              "summary": "{\n  \"name\": \"dataset\",\n  \"rows\": 5,\n  \"fields\": [\n    {\n      \"column\": \"comment\",\n      \"properties\": {\n        \"dtype\": \"string\",\n        \"num_unique_values\": 5,\n        \"samples\": [\n          \"\\u09b8\\u09bf\\u09a8\\u09cd\\u099f\\u09be\\u09b0\\u0995\\u09cd\\u09b2\\u09be\\u09b8\\u09c7\\u09b0 \\u099c\\u09a8\\u09cd\\u09af \\u098f\\u0995\\u099f\\u09bf \\u09a8\\u09a4\\u09c1\\u09a8 \\u09ac\\u09cd\\u09af\\u09be\\u0997 \\u098f\\u09ac\\u0982 \\u09ac\\u09c7\\u0995\\u09bf\\u0982 \\u09b8\\u09cd\\u099f\\u09be\\u09ab \\u09aa\\u09c7\\u09af\\u09bc\\u09c7\\u099b\\u09bf \\u09a4\\u09ac\\u09c7 \\u0986\\u09ae\\u09bf \\u0995\\u09c7\\u09ac\\u09b2 \\u09ae\\u09be\\u09a4\\u09cd\\u09b0   \\u09a8\\u09c3\\u09a4\\u09cd\\u09af\\u09c7 \\u09b8\\u09ac\\u099a\\u09c7\\u09af\\u09bc\\u09c7 \\u09ac\\u09c7\\u09b6\\u09bf \\u0996\\u09c1\\u09b6\\u09bf\",\n          \"\\u0986\\u09ae\\u09bf \\u09b2\\u09c7\\u0996\\u0995 \\u09b9\\u09bf\\u09b8\\u09be\\u09ac\\u09c7 \\u0986\\u09ae\\u09be\\u09b0 \\u09a6\\u0995\\u09cd\\u09b7\\u09a4\\u09be\\u09b0 \\u09aa\\u09cd\\u09b0\\u09a4\\u09bf \\u0986\\u09a4\\u09cd\\u09ae\\u09ac\\u09bf\\u09b6\\u09cd\\u09ac\\u09be\\u09b8 \\u09ac\\u09cb\\u09a7 \\u0995\\u09b0\\u09be \\u09a5\\u09c7\\u0995\\u09c7 \\u09b6\\u09c1\\u09b0\\u09c1 \\u0995\\u09b0\\u09c7 \\u09b8\\u09ae\\u09be\\u09a8\\u09ad\\u09be\\u09ac\\u09c7 \\u09a8\\u09bf\\u09b6\\u09cd\\u099a\\u09bf\\u09a4 \\u09b9\\u09af\\u09bc\\u09c7\\u099b\\u09bf \\u09af\\u09c7 \\u0986\\u09ae\\u09bf \\u0995\\u0996\\u09a8\\u0987 \\u09aa\\u09a1\\u09bc\\u09be\\u09b0 \\u0989\\u09aa\\u09af\\u09c1\\u0995\\u09cd\\u09a4 \\u0995\\u09bf\\u099b\\u09c1 \\u09b2\\u09bf\\u0996\\u09ac \\u09a8\\u09be\",\n          \"\\u0986\\u09ae\\u09bf \\u09a4\\u09be\\u0995\\u09c7 \\u099c\\u09bf\\u099c\\u09cd\\u099e\\u09be\\u09b8\\u09be \\u0995\\u09b0\\u09b2\\u09be\\u09ae \\u09b8\\u09c7 \\u0995\\u09bf \\u09a4\\u09be\\u09b0 \\u09ae\\u09c2\\u09b2\\u09cd\\u09af\\u09ac\\u09be\\u09a8 \\u0995\\u09c1\\u0995\\u09c1\\u09b0\\u09c7\\u09b0 \\u0986\\u09a4\\u09cd\\u09ae\\u09be\\u0995\\u09c7 \\u0985\\u09a8\\u09c1\\u09ad\\u09ac \\u0995\\u09b0\\u09a4\\u09c7 \\u09aa\\u09be\\u09b0\\u09c7 \"\n        ],\n        \"semantic_type\": \"\",\n        \"description\": \"\"\n      }\n    },\n    {\n      \"column\": \"comment_type\",\n      \"properties\": {\n        \"dtype\": \"string\",\n        \"num_unique_values\": 3,\n        \"samples\": [\n          \"joy\",\n          \"surprise\",\n          \"fear\"\n        ],\n        \"semantic_type\": \"\",\n        \"description\": \"\"\n      }\n    }\n  ]\n}"
            }
          },
          "metadata": {},
          "execution_count": 4
        }
      ]
    },
    {
      "cell_type": "code",
      "source": [
        "print(dataset.shape)"
      ],
      "metadata": {
        "colab": {
          "base_uri": "https://localhost:8080/"
        },
        "id": "EgHOdThV7EMR",
        "outputId": "82e5a538-f67a-495f-e5ac-72bb2c5f0b36"
      },
      "execution_count": null,
      "outputs": [
        {
          "output_type": "stream",
          "name": "stdout",
          "text": [
            "(42604, 2)\n"
          ]
        }
      ]
    },
    {
      "cell_type": "code",
      "source": [
        "import numpy as np\n",
        "import pandas as pd\n",
        "import matplotlib.pyplot as plt\n",
        "%matplotlib inline\n",
        "import seaborn as sns\n",
        "import re,json,nltk\n",
        "from sklearn.preprocessing import LabelEncoder\n",
        "from sklearn.feature_extraction.text import TfidfVectorizer\n",
        "from sklearn.model_selection import train_test_split\n",
        "from sklearn.metrics import classification_report,accuracy_score,precision_score,recall_score,f1_score\n",
        "from tensorflow.keras.preprocessing.text import Tokenizer\n",
        "stopwords_list = 'bangla_stopwords.txt'\n",
        "class color: # Text style\n",
        "   PURPLE = '\\033[95m'\n",
        "   CYAN = '\\033[96m'\n",
        "   DARKCYAN = '\\033[36m'\n",
        "   BLUE = '\\033[94m'\n",
        "   GREEN = '\\033[92m'\n",
        "   YELLOW = '\\033[93m'\n",
        "   RED = '\\033[91m'\n",
        "   BOLD = '\\033[1m'\n",
        "   UNDERLINE = '\\033[4m'\n",
        "   END = '\\033[0m'"
      ],
      "metadata": {
        "id": "YUYmFwJ8x-n8"
      },
      "execution_count": null,
      "outputs": []
    },
    {
      "cell_type": "code",
      "source": [
        "def process_comments(comment):\n",
        "    comment = re.sub('[^\\u0980-\\u09FF]',' ',str(comment)) #removing unnecessary punctuation\n",
        "    return comment"
      ],
      "metadata": {
        "id": "M1r1QKeF42Qr"
      },
      "execution_count": null,
      "outputs": []
    },
    {
      "cell_type": "code",
      "source": [
        "dataset['cleaned'] =  dataset['comment'].apply(process_comments)\n",
        "\n",
        "# print some cleaned reviews from the dataset\n",
        "sample_data = [10000,20000,15000,22000,25000,30000,35000]\n",
        "for i in sample_data:\n",
        "     print('Original:\\n', dataset.comment[i],'\\nCleaned:\\n',\n",
        "           dataset.cleaned[i],'\\n')"
      ],
      "metadata": {
        "colab": {
          "base_uri": "https://localhost:8080/"
        },
        "id": "FaZnj_8B5DLP",
        "outputId": "01a64cb3-b59c-4672-b0db-6ef00ec84763"
      },
      "execution_count": null,
      "outputs": [
        {
          "output_type": "stream",
          "name": "stdout",
          "text": [
            "Original:\n",
            " ক্রাউন তা এত সুন্দর কেমনে হয়নিজেকে রানী লাগছিল  অনেক কস্ট করে প্ল্যান করছে এরা কম সময়ের মধ্যে  বিয়ের আগে তোরা আমাকে এত মায়ায় ফেলতেছিস  কেন  সবকিছুর জন্য অনেক অনেক ভালবাসা আর কৃতজ্ঞতা  বইনা গুলা  স্কুল বান্ধবীর বিয়ে রাতে না থাকলে নৌকা ঘুরতে যেতাম রে বিকালে জীবনে আরেকটা সুন্দর স্মৃতি যোগ হল ভালোবাসা নিস তোরা  \n",
            "Cleaned:\n",
            " ক্রাউন তা এত সুন্দর কেমনে হয়নিজেকে রানী লাগছিল  অনেক কস্ট করে প্ল্যান করছে এরা কম সময়ের মধ্যে  বিয়ের আগে তোরা আমাকে এত মায়ায় ফেলতেছিস  কেন  সবকিছুর জন্য অনেক অনেক ভালবাসা আর কৃতজ্ঞতা  বইনা গুলা  স্কুল বান্ধবীর বিয়ে রাতে না থাকলে নৌকা ঘুরতে যেতাম রে বিকালে জীবনে আরেকটা সুন্দর স্মৃতি যোগ হল ভালোবাসা নিস তোরা  \n",
            "\n",
            "Original:\n",
            " আমি অনেক কেঁদেছি এবং এক ধরনের হতাশা বোধ করছি \n",
            "Cleaned:\n",
            " আমি অনেক কেঁদেছি এবং এক ধরনের হতাশা বোধ করছি \n",
            "\n",
            "Original:\n",
            "   কায়লাওনাওগডেন কি দুর্দান্ত রাতটি এত দুর্দান্ত ছিল  আমরা শীঘ্রই এটি আবার বাস্তব করতে হবে       হ্যাপি থ্যাঙ্কসগিভিং \n",
            "Cleaned:\n",
            "   কায়লাওনাওগডেন কি দুর্দান্ত রাতটি এত দুর্দান্ত ছিল  আমরা শীঘ্রই এটি আবার বাস্তব করতে হবে       হ্যাপি থ্যাঙ্কসগিভিং \n",
            "\n",
            "Original:\n",
            " আমি অনুভব করি যে আমার উচ্চতর নিরামিষ খাবারের সাথে আমার অসুস্থ হওয়া উচিত নয় \n",
            "Cleaned:\n",
            " আমি অনুভব করি যে আমার উচ্চতর নিরামিষ খাবারের সাথে আমার অসুস্থ হওয়া উচিত নয় \n",
            "\n",
            "Original:\n",
            " আমার মনে আছে আমি আজ রাতে সাদা ছিলাম যখন আমি নিকিকে ধর্ষণ করার চেষ্টা করছিলাম \n",
            "Cleaned:\n",
            " আমার মনে আছে আমি আজ রাতে সাদা ছিলাম যখন আমি নিকিকে ধর্ষণ করার চেষ্টা করছিলাম \n",
            "\n",
            "Original:\n",
            " আমি মার্টিনকে পিছনে ফেলে দিয়েছিলাম আমি যে ডিডিটি টেনেছিলাম এবং কারণ আমি ব্যতিক্রমীভাবে বহির্গামী feelingেউয়ের অনুভূতি অনুভব করছিলাম এবং নীচে আমার কিছু প্রতিবেশীর সাথে কথা বলছিলাম \n",
            "Cleaned:\n",
            " আমি মার্টিনকে পিছনে ফেলে দিয়েছিলাম আমি যে ডিডিটি টেনেছিলাম এবং কারণ আমি ব্যতিক্রমীভাবে বহির্গামী        েউয়ের অনুভূতি অনুভব করছিলাম এবং নীচে আমার কিছু প্রতিবেশীর সাথে কথা বলছিলাম \n",
            "\n",
            "Original:\n",
            " চুয়েটে যাওয়ার আগে প্রতিবছর পহেলা বৈশাখ মানে ছিলো সকালে বাসায় ইলিশ মাছ দিয়ে ভাত খেয়ে সুন্দর করে সেজেগুজে বাবার সাথে ব্লুবার্ড ছোট স্কুলে যাওয়া.. তারপর বন্ধুদের সাথে এদিক ওদিক ঘুরে সন্ধ্যায় বাসায় ফেরা। \n",
            "Cleaned:\n",
            " চুয়েটে যাওয়ার আগে প্রতিবছর পহেলা বৈশাখ মানে ছিলো সকালে বাসায় ইলিশ মাছ দিয়ে ভাত খেয়ে সুন্দর করে সেজেগুজে বাবার সাথে ব্লুবার্ড ছোট স্কুলে যাওয়া   তারপর বন্ধুদের সাথে এদিক ওদিক ঘুরে সন্ধ্যায় বাসায় ফেরা  \n",
            "\n"
          ]
        }
      ]
    },
    {
      "cell_type": "code",
      "source": [
        "# Length of each Reveiws\n",
        "dataset['length'] = dataset['cleaned'].apply(lambda x:len(x.split()))\n",
        "# Remove the reviews with least words\n",
        "dataset = dataset.loc[dataset.length>2]\n",
        "dataset = dataset.reset_index(drop = True)\n",
        "print(\"After Cleaning:\",\"\\nRemoved {} Small Reviews\".format(len(dataset)-len(dataset)),\n",
        "      \"\\nTotal Reviews:\",len(dataset))"
      ],
      "metadata": {
        "colab": {
          "base_uri": "https://localhost:8080/"
        },
        "id": "h9UHtRNx520Q",
        "outputId": "db183a3e-4972-490a-8585-cae8755efea8"
      },
      "execution_count": null,
      "outputs": [
        {
          "output_type": "stream",
          "name": "stdout",
          "text": [
            "After Cleaning: \n",
            "Removed 0 Small Reviews \n",
            "Total Reviews: 41843\n"
          ]
        }
      ]
    },
    {
      "cell_type": "code",
      "source": [
        "def data_summary(dataset):\n",
        "\n",
        "    \"\"\"\n",
        "    This function will print the summary of the reviews and words distribution in the dataset.\n",
        "\n",
        "    Args:\n",
        "        dataset: list of cleaned sentences\n",
        "\n",
        "    Returns:\n",
        "        Number of documnets per class: int\n",
        "        Number of words per class: int\n",
        "        Number of unique words per class: int\n",
        "    \"\"\"\n",
        "    documents = []\n",
        "    words = []\n",
        "    u_words = []\n",
        "    total_u_words = [word.strip().lower() for t in list(dataset.cleaned) for word in t.strip().split()]\n",
        "    class_label= [k for k,v in dataset.comment_type.value_counts().to_dict().items()]\n",
        "  # find word list\n",
        "    for label in class_label:\n",
        "        word_list = [word.strip().lower() for t in list(dataset[dataset.comment_type==label].cleaned) for word in t.strip().split()]\n",
        "        counts = dict()\n",
        "        for word in word_list:\n",
        "                counts[word] = counts.get(word, 0)+1\n",
        "        # sort the dictionary of word list\n",
        "        ordered = sorted(counts.items(), key= lambda item: item[1],reverse = True)\n",
        "        # Documents per class\n",
        "        documents.append(len(list(dataset[dataset.comment_type==label].cleaned)))\n",
        "        # Total Word per class\n",
        "        words.append(len(word_list))\n",
        "        # Unique words per class\n",
        "        u_words.append(len(np.unique(word_list)))\n",
        "\n",
        "        print(\"\\nClass Name : \",label)\n",
        "        print(\"Number of Documents:{}\".format(len(list(dataset[dataset.comment_type==label].cleaned))))\n",
        "        print(\"Number of Words:{}\".format(len(word_list)))\n",
        "        print(\"Number of Unique Words:{}\".format(len(np.unique(word_list))))\n",
        "        print(\"Most Frequent Words:\\n\")\n",
        "        for k,v in ordered[:10]:\n",
        "              print(\"{}\\t{}\".format(k,v))\n",
        "    print(\"Total Number of Unique Words:{}\".format(len(np.unique(total_u_words))))\n",
        "\n",
        "    return documents,words,u_words,class_label\n",
        "\n",
        "#call the fucntion\n",
        "documents,words,u_words,class_names = data_summary(dataset)"
      ],
      "metadata": {
        "colab": {
          "base_uri": "https://localhost:8080/"
        },
        "id": "k_BbASri6Eci",
        "outputId": "fa1aa5e1-7078-4cba-f9b9-f12d6ca53e2c"
      },
      "execution_count": null,
      "outputs": [
        {
          "output_type": "stream",
          "name": "stdout",
          "text": [
            "\n",
            "Class Name :  joy\n",
            "Number of Documents:11060\n",
            "Number of Words:201935\n",
            "Number of Unique Words:20497\n",
            "Most Frequent Words:\n",
            "\n",
            "আমি\t10396\n",
            "এবং\t4220\n",
            "করি\t3848\n",
            "আমার\t3697\n",
            "বোধ\t3214\n",
            "যে\t2616\n",
            "না\t2211\n",
            "মনে\t1954\n",
            "এই\t1778\n",
            "জন্য\t1772\n",
            "\n",
            "Class Name :  sadness\n",
            "Number of Documents:9620\n",
            "Number of Words:187910\n",
            "Number of Unique Words:19114\n",
            "Most Frequent Words:\n",
            "\n",
            "আমি\t9239\n",
            "আমার\t3496\n",
            "না\t3362\n",
            "এবং\t3265\n",
            "করি\t2914\n",
            "বোধ\t2859\n",
            "যে\t2082\n",
            "করে\t1591\n",
            "মনে\t1566\n",
            "অনুভব\t1473\n",
            "\n",
            "Class Name :  surprise\n",
            "Number of Documents:6285\n",
            "Number of Words:106225\n",
            "Number of Unique Words:17023\n",
            "Most Frequent Words:\n",
            "\n",
            "আমি\t3016\n",
            "আমার\t1861\n",
            "এবং\t1440\n",
            "না\t1352\n",
            "একটি\t982\n",
            "জন্য\t925\n",
            "যে\t871\n",
            "করে\t851\n",
            "এই\t709\n",
            "এটি\t621\n",
            "\n",
            "Class Name :  angry\n",
            "Number of Documents:5867\n",
            "Number of Words:108542\n",
            "Number of Unique Words:15146\n",
            "Most Frequent Words:\n",
            "\n",
            "আমি\t4323\n",
            "না\t1877\n",
            "আমার\t1653\n",
            "এবং\t1548\n",
            "করি\t1392\n",
            "বোধ\t1331\n",
            "যে\t1233\n",
            "করে\t1114\n",
            "এই\t965\n",
            "মনে\t766\n",
            "\n",
            "Class Name :  disgust\n",
            "Number of Documents:4641\n",
            "Number of Words:98373\n",
            "Number of Unique Words:10578\n",
            "Most Frequent Words:\n",
            "\n",
            "না\t1918\n",
            "করে\t1057\n",
            "এই\t968\n",
            "কি\t907\n",
            "আর\t900\n",
            "হয়\t561\n",
            "যে\t492\n",
            "ও\t476\n",
            "কিছু\t469\n",
            "মানুষ\t447\n",
            "\n",
            "Class Name :  fear\n",
            "Number of Documents:4370\n",
            "Number of Words:84335\n",
            "Number of Unique Words:11303\n",
            "Most Frequent Words:\n",
            "\n",
            "আমি\t3729\n",
            "আমার\t1421\n",
            "বোধ\t1284\n",
            "এবং\t1241\n",
            "না\t1166\n",
            "করি\t1044\n",
            "যে\t820\n",
            "করে\t814\n",
            "করছি\t637\n",
            "এই\t632\n",
            "Total Number of Unique Words:50410\n"
          ]
        }
      ]
    },
    {
      "cell_type": "code",
      "source": [
        "data_matrix = pd.DataFrame({'Total Documents':documents,\n",
        "                            'Total Words':words,\n",
        "                            'Unique Words':u_words,\n",
        "                            'Class Names':class_names})\n",
        "df = pd.melt(data_matrix, id_vars=\"Class Names\", var_name=\"Category\", value_name=\"Values\")\n",
        "plt.figure(figsize=(6, 4))\n",
        "ax = plt.subplot()\n",
        "\n",
        "sns.barplot(data=df,x='Class Names', y='Values' ,hue='Category')\n",
        "ax.set_xlabel('Class Names')\n",
        "ax.set_title('Data Statistics')\n",
        "\n",
        "ax.xaxis.set_ticklabels(class_names, rotation=45);"
      ],
      "metadata": {
        "colab": {
          "base_uri": "https://localhost:8080/",
          "height": 481
        },
        "id": "7ArE9Y108SH8",
        "outputId": "507e0676-f3cf-49e8-ab90-f046257a2a1f"
      },
      "execution_count": null,
      "outputs": [
        {
          "output_type": "stream",
          "name": "stderr",
          "text": [
            "<ipython-input-12-46daabb39e01>:13: UserWarning: FixedFormatter should only be used together with FixedLocator\n",
            "  ax.xaxis.set_ticklabels(class_names, rotation=45);\n"
          ]
        },
        {
          "output_type": "display_data",
          "data": {
            "text/plain": [
              "<Figure size 600x400 with 1 Axes>"
            ],
            "image/png": "[encoded data removed]"
          },
          "metadata": {}
        }
      ]
    },
    {
      "cell_type": "code",
      "source": [
        "import matplotlib.pyplot as plt\n",
        "import seaborn as sns\n",
        "\n",
        "data_matrix = pd.DataFrame({'Total Words': words, 'Unique Words': u_words, 'Class Names': class_names})\n",
        "df = pd.melt(data_matrix, id_vars=\"Class Names\", var_name=\"Category\", value_name=\"Values\")\n",
        "\n",
        "plt.figure(figsize=(8, 6))\n",
        "ax = plt.subplot()\n",
        "\n",
        "# Set color palette\n",
        "palette = [\"#FF6347\", \"#9370DB\", \"#3CB371\"]  # Define your desired colors\n",
        "\n",
        "# Plot the bar plot with custom colors\n",
        "sns.barplot(data=df, x='Class Names', y='Values', hue='Category', palette=palette, ax=ax)\n",
        "\n",
        "# Customize the plot\n",
        "ax.set_xlabel('Class Names', fontsize=14)\n",
        "ax.set_ylabel('Values', fontsize=14)\n",
        "#ax.set_title('Data Statistics', fontsize=16)\n",
        "ax.tick_params(axis='both', which='major', labelsize=12)\n",
        "ax.xaxis.set_ticklabels(class_names, rotation=45, ha='right')\n",
        "ax.legend(fontsize=12, loc='upper right')\n",
        "\n",
        "# Remove the top and right spines\n",
        "sns.despine(top=True, right=True)\n",
        "\n",
        "plt.tight_layout()\n",
        "plt.show()"
      ],
      "metadata": {
        "colab": {
          "base_uri": "https://localhost:8080/",
          "height": 676
        },
        "id": "dZ4968R7LY5r",
        "outputId": "77a6c08e-b1cd-45ff-b297-9809f896b149"
      },
      "execution_count": null,
      "outputs": [
        {
          "output_type": "stream",
          "name": "stderr",
          "text": [
            "<ipython-input-14-1f77365cd811>:14: UserWarning: The palette list has more values (3) than needed (2), which may not be intended.\n",
            "  sns.barplot(data=df, x='Class Names', y='Values', hue='Category', palette=palette, ax=ax)\n",
            "<ipython-input-14-1f77365cd811>:21: UserWarning: FixedFormatter should only be used together with FixedLocator\n",
            "  ax.xaxis.set_ticklabels(class_names, rotation=45, ha='right')\n"
          ]
        },
        {
          "output_type": "display_data",
          "data": {
            "text/plain": [
              "<Figure size 800x600 with 1 Axes>"
            ],
            "image/png": "[encoded data removed]"
          },
          "metadata": {}
        }
      ]
    },
    {
      "cell_type": "code",
      "source": [
        "# Calculate the Review of each of the Review\n",
        "dataset['ReviewLength'] = dataset.cleaned.apply(lambda x:len(x.split()))\n",
        "frequency = dict()\n",
        "for i in dataset.ReviewLength:\n",
        "    frequency[i] = frequency.get(i, 0)+1\n",
        "\n",
        "plt.bar(frequency.keys(), frequency.values(), color =\"b\")\n",
        "plt.xlim(1, 135)\n",
        "# in this notbook color is not working but it should work.\n",
        "plt.xlabel('Lenght of the Texts')\n",
        "plt.ylabel('Frequency')\n",
        "plt.title('Length-Frequency Distribution')\n",
        "plt.show()\n",
        "print(f\"Maximum Length of a review: {max(dataset.ReviewLength)}\")\n",
        "print(f\"Minimum Length of a review: {min(dataset.ReviewLength)}\")\n",
        "print(f\"Average Length of a reviews: {round(np.mean(dataset.ReviewLength),0)}\")"
      ],
      "metadata": {
        "colab": {
          "base_uri": "https://localhost:8080/",
          "height": 524
        },
        "id": "FDYYsZuU8azh",
        "outputId": "bb57e01d-1c4f-446e-9e1d-b323d2b3cf9c"
      },
      "execution_count": null,
      "outputs": [
        {
          "output_type": "display_data",
          "data": {
            "text/plain": [
              "<Figure size 640x480 with 1 Axes>"
            ],
            "image/png": "[encoded data removed]"
          },
          "metadata": {}
        },
        {
          "output_type": "stream",
          "name": "stdout",
          "text": [
            "Maximum Length of a review: 479\n",
            "Minimum Length of a review: 3\n",
            "Average Length of a reviews: 19.0\n"
          ]
        }
      ]
    },
    {
      "cell_type": "code",
      "source": [
        "# Calculate the Review of each of the Review\n",
        "dataset['ReviewLength'] = dataset.cleaned.apply(lambda x: len(x.split()))\n",
        "frequency = dict()\n",
        "for i in dataset.ReviewLength:\n",
        "    frequency[i] = frequency.get(i, 0) + 1\n",
        "\n",
        "# Create a figure and axis object\n",
        "fig, ax = plt.subplots(figsize=(10, 6))\n",
        "\n",
        "# Plot the bar plot with custom colors and formatting\n",
        "bar_colors = sns.color_palette(\"Blues\", len(frequency))\n",
        "bars = ax.bar(frequency.keys(), frequency.values(), color=bar_colors, edgecolor='black', linewidth=1)\n",
        "\n",
        "# Customize the bar colors\n",
        "for bar, color in zip(bars, bar_colors):\n",
        "    bar.set_facecolor(color)\n",
        "    bar.set_edgecolor('black')\n",
        "\n",
        "# Set the x and y limits\n",
        "ax.set_xlim(1, 135)\n",
        "ax.set_ylim(0, max(frequency.values()) * 1.1)  # Add some padding to the top\n",
        "\n",
        "# Set labels and title\n",
        "ax.set_xlabel('Length of the Texts', fontsize=14)\n",
        "ax.set_ylabel('Frequency', fontsize=14)\n",
        "ax.set_title('Length-Frequency Distribution', fontsize=16)\n",
        "\n",
        "# Rotate the x-axis tick labels\n",
        "plt.xticks(rotation=45, ha='right')\n",
        "\n",
        "# Remove the top and right spines\n",
        "sns.despine(top=True, right=True)\n",
        "\n",
        "# Display the plot\n",
        "plt.tight_layout()\n",
        "plt.show()\n",
        "\n",
        "# Print the maximum, minimum, and average length of reviews\n",
        "print(f\"Maximum Length of a review: {max(dataset.ReviewLength)}\")\n",
        "print(f\"Minimum Length of a review: {min(dataset.ReviewLength)}\")\n",
        "print(f\"Average Length of a reviews: {round(np.mean(dataset.ReviewLength), 0)}\")"
      ],
      "metadata": {
        "colab": {
          "base_uri": "https://localhost:8080/",
          "height": 659
        },
        "id": "-XkHhRIGL5hR",
        "outputId": "342cc0a9-5aeb-4679-9ba8-b4e8560a5b11"
      },
      "execution_count": null,
      "outputs": [
        {
          "output_type": "display_data",
          "data": {
            "text/plain": [
              "<Figure size 1000x600 with 1 Axes>"
            ],
            "image/png": "[encoded data removed]"
          },
          "metadata": {}
        },
        {
          "output_type": "stream",
          "name": "stdout",
          "text": [
            "Maximum Length of a review: 479\n",
            "Minimum Length of a review: 3\n",
            "Average Length of a reviews: 19.0\n"
          ]
        }
      ]
    },
    {
      "cell_type": "code",
      "source": [
        "def label_encoding(sentiment,bool):\n",
        "    \"\"\"\n",
        "    This function will return the encoded labels in array format.\n",
        "\n",
        "    Args:\n",
        "        sentiment: series of class names(str)\n",
        "        bool: boolean (True or False)\n",
        "\n",
        "    Returns:\n",
        "        labels: numpy array\n",
        "    \"\"\"\n",
        "    le = LabelEncoder()\n",
        "    le.fit(sentiment)\n",
        "    encoded_labels = le.transform(sentiment)\n",
        "    labels = np.array(encoded_labels) # Converting into numpy array\n",
        "    class_names =le.classes_ ## Define the class names again\n",
        "    if bool == True:\n",
        "        print(\"\\n\\t\\t\\t===== Label Encoding =====\",\"\\nClass Names:-->\",le.classes_)\n",
        "        for i in sample_data:\n",
        "            print(sentiment[i],' ', encoded_labels[i],'\\n')\n",
        "\n",
        "    return labels"
      ],
      "metadata": {
        "id": "SyKs3mJH8qdH"
      },
      "execution_count": null,
      "outputs": []
    },
    {
      "cell_type": "code",
      "source": [
        "def dataset_split(feature_space,sentiment):\n",
        "    \"\"\"\n",
        "    This function will return the splitted (80%-20%) feature vector .\n",
        "\n",
        "    Args:\n",
        "        feature_space: calcuated feature vector (sparse matrix)\n",
        "        sentiment: encoded lables (array)\n",
        "\n",
        "    Returns:\n",
        "        X_train: training feature vector (sparse matrix)\n",
        "        X_test : testing feature vector (sparse matrix)\n",
        "        y_train: training encoded labels (array)\n",
        "        y_test : testing encoded labels (array)\n",
        "    \"\"\"\n",
        "\n",
        "    X_train,X_test,y_train,y_test = train_test_split(feature_space,sentiment,train_size = 0.9,\n",
        "                                                  test_size = 0.1,random_state =0)\n",
        "    print(\"Feature Size :======>\",X_train.shape[1])\n",
        "    print(\"\\nDataset Distribution:\\n\")\n",
        "    print(\"\\tSet Name\",\"\\t\\tSize\")\n",
        "    print(\"\\t========\\t\\t======\")\n",
        "\n",
        "    print(\"\\tFull\\t\\t\\t\",feature_space.shape[0],\n",
        "        \"\\n\\tTraining\\t\\t\",X_train.shape[0],\n",
        "        \"\\n\\tTest\\t\\t\\t\",X_test.shape[0])\n",
        "\n",
        "    return X_train,X_test,y_train,y_test\n",
        "\n",
        "\n",
        "\n",
        "def calc_gram_tfidf(reviews,gram):\n",
        "    \"\"\"\n",
        "    This function will return the tf-idf value of the respective gram features .\n",
        "\n",
        "    Args:\n",
        "        reviews: a list of cleaned reviews\n",
        "\n",
        "    Returns:\n",
        "        tfidf: a instance of TfidfVectorizer\n",
        "        X : Unigram Feature Vector (sparse matrix)\n",
        "    \"\"\"\n",
        "    tfidf = TfidfVectorizer(ngram_range=gram,use_idf=True,tokenizer=lambda x: x.split())\n",
        "    X = tfidf.fit_transform(reviews)\n",
        "\n",
        "    return tfidf,X\n",
        "\n"
      ],
      "metadata": {
        "id": "Cfho-8A4EsLj"
      },
      "execution_count": null,
      "outputs": []
    },
    {
      "cell_type": "code",
      "source": [
        "from sklearn.linear_model import LogisticRegression\n",
        "from sklearn.tree import DecisionTreeClassifier\n",
        "from sklearn.ensemble import RandomForestClassifier\n",
        "from sklearn.naive_bayes import MultinomialNB\n",
        "from sklearn.neighbors import KNeighborsClassifier\n",
        "from sklearn.svm import SVC\n",
        "from sklearn.linear_model import SGDClassifier\n",
        "from sklearn.metrics import classification_report,accuracy_score,precision_score,recall_score,f1_score\n",
        "from sklearn.metrics import roc_curve, roc_auc_score\n",
        "from sklearn.metrics import average_precision_score,roc_auc_score, roc_curve, precision_recall_curve\n"
      ],
      "metadata": {
        "id": "nxxEb-lDFMM_"
      },
      "execution_count": null,
      "outputs": []
    },
    {
      "cell_type": "code",
      "source": [
        "\n",
        "                                              #============================================\n",
        "                                              #########  Classifiers Defination  #########\n",
        "                                              #============================================\n",
        "def ml_models_defination():\n",
        "    \"\"\"\n",
        "    This function consists the models defination for All gram Features\n",
        "\n",
        "    Retuns:\n",
        "        ml_models: list of models\n",
        "        model_names: list of model_names\n",
        "\n",
        "    \"\"\"\n",
        "\n",
        "    lr_model = LogisticRegression(random_state = 123)\n",
        "    dt_model = DecisionTreeClassifier(criterion = 'entropy', random_state = 0)\n",
        "    rf_model = RandomForestClassifier(n_estimators=100, criterion ='entropy', random_state = 0)\n",
        "    mnb_model = MultinomialNB(alpha=0.15)\n",
        "    knn_model = KNeighborsClassifier(n_neighbors=3, metric = 'minkowski')\n",
        "    lsvm_model = SVC(kernel = 'linear',C = 0.2, probability=True, random_state = 0)\n",
        "    ksvm_model = SVC(C= 1000,kernel = 'rbf',probability=True, gamma = 0.00015, random_state = 0)\n",
        "    model_names = ['Logistic Regression','Decision Tree','Random Forest','Naive Bayes','KNN','Linear SVM','Kernel SVM']\n",
        "    #model_names = ['Logistic Regression']\n",
        "    # Create list of models\n",
        "    ml_models = [lr_model,dt_model,rf_model,mnb_model,knn_model,lsvm_model,ksvm_model]\n",
        "    #ml_models = [lr_model]\n",
        "    return ml_models,model_names\n",
        "\n",
        "\n",
        "                                          #============================================\n",
        "                                           ####### Model Evaluation Function ############\n",
        "                                           #=============================================\n",
        "\n",
        "def model_performace(model,X_train,X_test,y_train,y_test):\n",
        "    \"\"\"\n",
        "    This function will return the performance parameter values of each ML models.\n",
        "    Performance parameters are Accuracy, F1-Score, Precision, Recall.\n",
        "\n",
        "    Args:\n",
        "        model: a ML model instance\n",
        "        X_train: training feature vector (sparse matrix)\n",
        "        X_test : testing feature vector (sparse matrix)\n",
        "        y_train: training encoded labels (array)\n",
        "        y_test : testing encoded labels (array)\n",
        "\n",
        "    Returns:\n",
        "        my_dict: a dictionary of all the parameters for each models\n",
        "    \"\"\"\n",
        "    my_dict = {}\n",
        "    model.fit(X_train,y_train)\n",
        "    # Prediction\n",
        "    pred_y = model.predict(X_test)\n",
        "    my_dict['Accuracy'] = round(accuracy_score(y_test, pred_y,),4)*100\n",
        "    my_dict['Precision'] = round(precision_score(y_test, pred_y, pos_label='positive',\n",
        "                                           average='macro'),4)*100\n",
        "    my_dict['Recall'] = round(recall_score(y_test, pred_y, pos_label='positive',\n",
        "                                           average='macro'),4)*100\n",
        "    my_dict['F1 Score'] = round(f1_score(y_test, pred_y, average='macro'),4)*100\n",
        "\n",
        "    return my_dict\n",
        "\n",
        "                                        #========================================\n",
        "                                        #### Model Performane into Dataframe #####\n",
        "                                        #=========================================\n",
        "\n",
        "def performance_table(performance_dict):\n",
        "    \"\"\"\n",
        "    This function will create a dataframe of all the performance parameters.\n",
        "\n",
        "    Args:\n",
        "        performance_dict: a dictionary of all the parameters for each models\n",
        "\n",
        "    Returns:\n",
        "        performance_df: a dataframe\n",
        "    \"\"\"\n",
        "\n",
        "    acc_list = []\n",
        "    pr_list = []\n",
        "    re_list = []\n",
        "    f1_list = []\n",
        "    for i in performance_dict.keys():\n",
        "        acc_list.append(performance_dict[i]['Accuracy'])\n",
        "        pr_list.append(performance_dict[i]['Precision'])\n",
        "        re_list.append(performance_dict[i]['Recall'])\n",
        "        f1_list.append(performance_dict[i]['F1 Score'])\n",
        "\n",
        "    # Create a dataframe\n",
        "    model_names = ['LR','DT','RF','MNB','KNN','Linear SVM','RBF SVM']\n",
        "    performance_df = pd.DataFrame({'Accuracy':acc_list,'Precision':pr_list,\n",
        "                                   'Recall':re_list,'F1 Score':f1_list,\n",
        "                                   'Model Name':model_names })\n",
        "    return performance_df"
      ],
      "metadata": {
        "id": "3konZyCHFRMd"
      },
      "execution_count": null,
      "outputs": []
    },
    {
      "cell_type": "code",
      "source": [
        "## save the performance of the model for each gram feature\n",
        "gram_names = ['Unigram','Bigram']\n",
        "ngrams = [(1,1),(1,2),(1,3)]\n",
        "for i,gram in enumerate(ngrams):\n",
        "    tfidf,feature = calc_gram_tfidf(dataset.cleaned,gram)\n",
        "    labels = label_encoding(dataset.comment_type,False)\n",
        "    X_train,X_test,y_train,y_test = dataset_split(feature,labels)\n",
        "    ml_models,model_names = ml_models_defination()\n",
        "    # call model accuracy function and save the metrices into a dictionary\n",
        "    accuracy = {f'{model_names[j]}':model_performace(model,X_train,X_test,y_train,y_test) for j,model in enumerate(ml_models)}\n",
        "    with open(path+f'ml_performance_{gram_names[i]}.json', 'w') as f:\n",
        "          json.dump(accuracy, f)\n"
      ],
      "metadata": {
        "id": "5jqjVuA6E08w"
      },
      "execution_count": null,
      "outputs": []
    },
    {
      "cell_type": "code",
      "source": [
        "# Load all the json files\n",
        "gram_names = ['Unigram','Bigram']\n",
        "\n",
        "for gram in gram_names:\n",
        "  accuracy = json.load(open(path+f'ml_performance_{gram}.json'))\n",
        "  table = performance_table(accuracy)\n",
        "  print(f\"\\n========== Performace Table for {gram} feature:========\\n\",table)\n",
        "  print(f\"\\n========In case of {gram} feature:========\\n\")\n",
        "  print(f\"Highest Accuracy achieved by {table['Model Name'][table.Accuracy.idxmax(axis = 0)]} at = {max(table.Accuracy)}\")\n",
        "  print(f\"Highest F1-Score achieved by {table['Model Name'][table['F1 Score'].idxmax(axis = 0)]} at = {max(table['F1 Score'] )}\")\n",
        "  print(f\"Highest Precision Score achieved by {table['Model Name'][table['Precision'].idxmax(axis = 0)]} at = {max(table['Precision'] )}\")\n",
        "  print(f\"Highest Recall Score achieved by {table['Model Name'][table['Recall'].idxmax(axis = 0)]} at = {max(table['Recall'] )}\")\n",
        "\n"
      ],
      "metadata": {
        "id": "2j7dWfmZQEXX"
      },
      "execution_count": null,
      "outputs": []
    },
    {
      "cell_type": "code",
      "source": [
        "gram_names = ['Unigram','Bigram']\n",
        "\n",
        "for gram in gram_names:\n",
        "  accuracy = json.load(open(path+f'ml_performance_{gram}.json'))\n",
        "  table = performance_table(accuracy)\n",
        "  df = pd.melt(table[['Accuracy','F1 Score','Model Name']], id_vars=\"Model Name\", var_name=\"Category\", value_name=\"Values\")\n",
        "  plt.figure(figsize=(8,6))\n",
        "  ax = plt.subplot()\n",
        "  sns.barplot(data=df,x='Model Name', y='Values' ,hue='Category')\n",
        "  ax.set_xlabel('Model Name')\n",
        "  ax.set_title(f'Comparison of Accuracy and F1-Score Value for {gram} Feature')\n",
        "  ax.set_ylim([10,100])\n",
        "  ax.xaxis.set_ticklabels(table['Model Name'], rotation=45);"
      ],
      "metadata": {
        "id": "mHlz6X8UO8Z0"
      },
      "execution_count": null,
      "outputs": []
    }
  ]
}