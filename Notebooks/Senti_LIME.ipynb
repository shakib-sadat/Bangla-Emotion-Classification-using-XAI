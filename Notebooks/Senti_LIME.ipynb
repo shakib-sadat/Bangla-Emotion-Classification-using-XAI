{
  "nbformat": 4,
  "nbformat_minor": 0,
  "metadata": {
    "colab": {
      "provenance": []
    },
    "kernelspec": {
      "name": "python3",
      "display_name": "Python 3"
    },
    "language_info": {
      "name": "python"
    }
  },
  "cells": [
    {
      "cell_type": "code",
      "source": [
        "pip install lime"
      ],
      "metadata": {
        "id": "SkMGbw5BQ5E-"
      },
      "execution_count": null,
      "outputs": []
    },
    {
      "cell_type": "code",
      "execution_count": null,
      "metadata": {
        "id": "h8ray6pFQr0V"
      },
      "outputs": [],
      "source": [
        "import lime\n",
        "import sklearn\n",
        "import numpy as np\n",
        "import sklearn\n",
        "import sklearn.ensemble\n",
        "import sklearn.metrics\n",
        "from __future__ import print_function\n",
        "import numpy as np\n",
        "import pandas as pd\n",
        "import pickle\n",
        "import matplotlib.pyplot as plt\n",
        "%matplotlib inline\n",
        "import seaborn as sns\n",
        "import re,json,nltk\n",
        "from sklearn.preprocessing import LabelEncoder\n",
        "from sklearn.feature_extraction.text import TfidfVectorizer\n",
        "from sklearn.feature_extraction.text import TfidfTransformer\n",
        "from sklearn.model_selection import train_test_split\n",
        "from sklearn.metrics import classification_report,accuracy_score,precision_score,recall_score,f1_score\n",
        "stopwords_list ='stopwords-bn.txt'"
      ]
    },
    {
      "cell_type": "markdown",
      "source": [
        "**Data Preparation**"
      ],
      "metadata": {
        "id": "CKmc-jk3mRzt"
      }
    },
    {
      "cell_type": "code",
      "source": [
        "# data = pd.read_excel('corpus_all.xlsx')\n",
        "train_df = pd.read_excel('/content/train_emotion.xlsx')\n",
        "val_df = pd.read_excel('/content/test_emotion.xlsx')"
      ],
      "metadata": {
        "id": "Nn_tuGGPQx6m"
      },
      "execution_count": null,
      "outputs": []
    },
    {
      "source": [
        "# import pandas as pd\n",
        "# from sklearn.utils import resample\n",
        "\n",
        "# # Assuming your target variable is named 'target'\n",
        "# classes = data['comment_type'].unique()\n",
        "# # Create an empty list to store the sampled data\n",
        "# sampled_data = []\n",
        "\n",
        "# # Loop through each class and take 600 random samples\n",
        "# for class_value in classes:\n",
        "#     class_data = data[data['comment_type'] == class_value]\n",
        "#     sampled_class_data = resample(class_data, replace=False, n_samples=384, random_state=42)\n",
        "#     sampled_data.append(sampled_class_data)\n",
        "\n",
        "# # Concatenate the sampled data into a single DataFrame\n",
        "# sampled_data = pd.concat(sampled_data, ignore_index=True)\n",
        "\n",
        "# # Save the sampled data to an Excel file\n",
        "# sampled_data.to_excel('sampled_data.xlsx', index=False)"
      ],
      "cell_type": "code",
      "metadata": {
        "id": "cgaA4QXNGwrU"
      },
      "execution_count": null,
      "outputs": []
    },
    {
      "cell_type": "code",
      "source": [
        "# data = pd.read_excel('sampled_data.xlsx')"
      ],
      "metadata": {
        "id": "a0-fRsaXImRn"
      },
      "execution_count": null,
      "outputs": []
    },
    {
      "cell_type": "code",
      "source": [
        "# data.describe()"
      ],
      "metadata": {
        "id": "DVD6tVMuJK0O"
      },
      "execution_count": null,
      "outputs": []
    },
    {
      "cell_type": "code",
      "source": [
        "class_values_train = train_df['comment_type'].unique()\n",
        "print(\"Unique class values train:\", class_values_train)\n",
        "\n",
        "class_values_test = val_df['comment_type'].unique()\n",
        "print(\"Unique class values test:\", class_values_test)\n",
        "# Count the number of instances for each class\n",
        "class_counts_train = train_df['comment_type'].value_counts()\n",
        "print(\"\\nClass counts train:\")\n",
        "print(class_counts_train)\n",
        "# Count the number of instances for each class\n",
        "class_counts_test = val_df['comment_type'].value_counts()\n",
        "print(\"\\nClass counts test:\")\n",
        "print(class_counts_test)"
      ],
      "metadata": {
        "id": "OJQvLvhaJQil"
      },
      "execution_count": null,
      "outputs": []
    },
    {
      "cell_type": "code",
      "source": [
        "from utils import cleaned_reviews,stopwords_info,stopword_removal,process_reviews"
      ],
      "metadata": {
        "id": "y6oQAymwRcCM"
      },
      "execution_count": null,
      "outputs": []
    },
    {
      "cell_type": "code",
      "source": [
        "#data['cleaned'] = data['comment'].apply(process_reviews,stopwords = stopwords_list,removing_stopwords = True)\n",
        "train_df['cleaned'] = train_df['comment'].apply(process_reviews,stopwords = stopwords_list,removing_stopwords = False)"
      ],
      "metadata": {
        "id": "7iwXINNhRk1j"
      },
      "execution_count": null,
      "outputs": []
    },
    {
      "cell_type": "code",
      "source": [
        "train_df[['cleaned','comment_type']].to_excel('clean_reviews_train.xlsx')"
      ],
      "metadata": {
        "id": "5jlLFESzUA-s"
      },
      "execution_count": null,
      "outputs": []
    },
    {
      "cell_type": "code",
      "source": [
        "train_df.head()"
      ],
      "metadata": {
        "colab": {
          "base_uri": "https://localhost:8080/",
          "height": 206
        },
        "id": "s8ZfLDpvW75r",
        "outputId": "e7554f31-330e-4673-b6ca-6e7bb0570e2b"
      },
      "execution_count": null,
      "outputs": [
        {
          "output_type": "execute_result",
          "data": {
            "text/plain": [
              "                                             comment comment_type  \\\n",
              "0  এরপর যেই তারা দাফনের কাজ শুরু করবে ঠিক তখনি কব...         fear   \n",
              "1  আমি মন্তব্য করতে দ্বিধা বোধ করছি কারণ আমি পাইথ...         fear   \n",
              "2  আপনারা  এসব  করে  হীনোমোনোত্তর প্রমান দিচ্ছন ....      disgust   \n",
              "3        ঈশ্বর  আমি এখানে আঠা আকাশ থেকে সত্যিই উঁচু      surprise   \n",
              "4      আমি প্রাক্তন থেকে দূরে থাকাকে আনন্দিত বোধ করি          joy   \n",
              "\n",
              "                                             cleaned  \n",
              "0  এরপর যেই তারা দাফনের কাজ শুরু করবে ঠিক তখনি কব...  \n",
              "1  আমি মন্তব্য করতে দ্বিধা বোধ করছি কারণ আমি পাইথ...  \n",
              "2  আপনারা  এসব  করে  হীনোমোনোত্তর প্রমান দিচ্ছন  ...  \n",
              "3        ঈশ্বর  আমি এখানে আঠা আকাশ থেকে সত্যিই উঁচু   \n",
              "4      আমি প্রাক্তন থেকে দূরে থাকাকে আনন্দিত বোধ করি  "
            ],
            "text/html": [
              "\n",
              "  <div id=\"df-761a562d-bed2-4841-b5e8-8c908783e3b5\" class=\"colab-df-container\">\n",
              "    <div>\n",
              "<style scoped>\n",
              "    .dataframe tbody tr th:only-of-type {\n",
              "        vertical-align: middle;\n",
              "    }\n",
              "\n",
              "    .dataframe tbody tr th {\n",
              "        vertical-align: top;\n",
              "    }\n",
              "\n",
              "    .dataframe thead th {\n",
              "        text-align: right;\n",
              "    }\n",
              "</style>\n",
              "<table border=\"1\" class=\"dataframe\">\n",
              "  <thead>\n",
              "    <tr style=\"text-align: right;\">\n",
              "      <th></th>\n",
              "      <th>comment</th>\n",
              "      <th>comment_type</th>\n",
              "      <th>cleaned</th>\n",
              "    </tr>\n",
              "  </thead>\n",
              "  <tbody>\n",
              "    <tr>\n",
              "      <th>0</th>\n",
              "      <td>এরপর যেই তারা দাফনের কাজ শুরু করবে ঠিক তখনি কব...</td>\n",
              "      <td>fear</td>\n",
              "      <td>এরপর যেই তারা দাফনের কাজ শুরু করবে ঠিক তখনি কব...</td>\n",
              "    </tr>\n",
              "    <tr>\n",
              "      <th>1</th>\n",
              "      <td>আমি মন্তব্য করতে দ্বিধা বোধ করছি কারণ আমি পাইথ...</td>\n",
              "      <td>fear</td>\n",
              "      <td>আমি মন্তব্য করতে দ্বিধা বোধ করছি কারণ আমি পাইথ...</td>\n",
              "    </tr>\n",
              "    <tr>\n",
              "      <th>2</th>\n",
              "      <td>আপনারা  এসব  করে  হীনোমোনোত্তর প্রমান দিচ্ছন ....</td>\n",
              "      <td>disgust</td>\n",
              "      <td>আপনারা  এসব  করে  হীনোমোনোত্তর প্রমান দিচ্ছন  ...</td>\n",
              "    </tr>\n",
              "    <tr>\n",
              "      <th>3</th>\n",
              "      <td>ঈশ্বর  আমি এখানে আঠা আকাশ থেকে সত্যিই উঁচু</td>\n",
              "      <td>surprise</td>\n",
              "      <td>ঈশ্বর  আমি এখানে আঠা আকাশ থেকে সত্যিই উঁচু</td>\n",
              "    </tr>\n",
              "    <tr>\n",
              "      <th>4</th>\n",
              "      <td>আমি প্রাক্তন থেকে দূরে থাকাকে আনন্দিত বোধ করি</td>\n",
              "      <td>joy</td>\n",
              "      <td>আমি প্রাক্তন থেকে দূরে থাকাকে আনন্দিত বোধ করি</td>\n",
              "    </tr>\n",
              "  </tbody>\n",
              "</table>\n",
              "</div>\n",
              "    <div class=\"colab-df-buttons\">\n",
              "\n",
              "  <div class=\"colab-df-container\">\n",
              "    <button class=\"colab-df-convert\" onclick=\"convertToInteractive('df-761a562d-bed2-4841-b5e8-8c908783e3b5')\"\n",
              "            title=\"Convert this dataframe to an interactive table.\"\n",
              "            style=\"display:none;\">\n",
              "\n",
              "  <svg xmlns=\"http://www.w3.org/2000/svg\" height=\"24px\" viewBox=\"0 -960 960 960\">\n",
              "    <path d=\"M120-120v-720h720v720H120Zm60-500h600v-160H180v160Zm220 220h160v-160H400v160Zm0 220h160v-160H400v160ZM180-400h160v-160H180v160Zm440 0h160v-160H620v160ZM180-180h160v-160H180v160Zm440 0h160v-160H620v160Z\"/>\n",
              "  </svg>\n",
              "    </button>\n",
              "\n",
              "  <style>\n",
              "    .colab-df-container {\n",
              "      display:flex;\n",
              "      gap: 12px;\n",
              "    }\n",
              "\n",
              "    .colab-df-convert {\n",
              "      background-color: #E8F0FE;\n",
              "      border: none;\n",
              "      border-radius: 50%;\n",
              "      cursor: pointer;\n",
              "      display: none;\n",
              "      fill: #1967D2;\n",
              "      height: 32px;\n",
              "      padding: 0 0 0 0;\n",
              "      width: 32px;\n",
              "    }\n",
              "\n",
              "    .colab-df-convert:hover {\n",
              "      background-color: #E2EBFA;\n",
              "      box-shadow: 0px 1px 2px rgba(60, 64, 67, 0.3), 0px 1px 3px 1px rgba(60, 64, 67, 0.15);\n",
              "      fill: #174EA6;\n",
              "    }\n",
              "\n",
              "    .colab-df-buttons div {\n",
              "      margin-bottom: 4px;\n",
              "    }\n",
              "\n",
              "    [theme=dark] .colab-df-convert {\n",
              "      background-color: #3B4455;\n",
              "      fill: #D2E3FC;\n",
              "    }\n",
              "\n",
              "    [theme=dark] .colab-df-convert:hover {\n",
              "      background-color: #434B5C;\n",
              "      box-shadow: 0px 1px 3px 1px rgba(0, 0, 0, 0.15);\n",
              "      filter: drop-shadow(0px 1px 2px rgba(0, 0, 0, 0.3));\n",
              "      fill: #FFFFFF;\n",
              "    }\n",
              "  </style>\n",
              "\n",
              "    <script>\n",
              "      const buttonEl =\n",
              "        document.querySelector('#df-761a562d-bed2-4841-b5e8-8c908783e3b5 button.colab-df-convert');\n",
              "      buttonEl.style.display =\n",
              "        google.colab.kernel.accessAllowed ? 'block' : 'none';\n",
              "\n",
              "      async function convertToInteractive(key) {\n",
              "        const element = document.querySelector('#df-761a562d-bed2-4841-b5e8-8c908783e3b5');\n",
              "        const dataTable =\n",
              "          await google.colab.kernel.invokeFunction('convertToInteractive',\n",
              "                                                    [key], {});\n",
              "        if (!dataTable) return;\n",
              "\n",
              "        const docLinkHtml = 'Like what you see? Visit the ' +\n",
              "          '<a target=\"_blank\" href=https://colab.research.google.com/notebooks/data_table.ipynb>data table notebook</a>'\n",
              "          + ' to learn more about interactive tables.';\n",
              "        element.innerHTML = '';\n",
              "        dataTable['output_type'] = 'display_data';\n",
              "        await google.colab.output.renderOutput(dataTable, element);\n",
              "        const docLink = document.createElement('div');\n",
              "        docLink.innerHTML = docLinkHtml;\n",
              "        element.appendChild(docLink);\n",
              "      }\n",
              "    </script>\n",
              "  </div>\n",
              "\n",
              "\n",
              "<div id=\"df-ad43de27-8e30-4063-820d-b9929db0296c\">\n",
              "  <button class=\"colab-df-quickchart\" onclick=\"quickchart('df-ad43de27-8e30-4063-820d-b9929db0296c')\"\n",
              "            title=\"Suggest charts\"\n",
              "            style=\"display:none;\">\n",
              "\n",
              "<svg xmlns=\"http://www.w3.org/2000/svg\" height=\"24px\"viewBox=\"0 0 24 24\"\n",
              "     width=\"24px\">\n",
              "    <g>\n",
              "        <path d=\"M19 3H5c-1.1 0-2 .9-2 2v14c0 1.1.9 2 2 2h14c1.1 0 2-.9 2-2V5c0-1.1-.9-2-2-2zM9 17H7v-7h2v7zm4 0h-2V7h2v10zm4 0h-2v-4h2v4z\"/>\n",
              "    </g>\n",
              "</svg>\n",
              "  </button>\n",
              "\n",
              "<style>\n",
              "  .colab-df-quickchart {\n",
              "      --bg-color: #E8F0FE;\n",
              "      --fill-color: #1967D2;\n",
              "      --hover-bg-color: #E2EBFA;\n",
              "      --hover-fill-color: #174EA6;\n",
              "      --disabled-fill-color: #AAA;\n",
              "      --disabled-bg-color: #DDD;\n",
              "  }\n",
              "\n",
              "  [theme=dark] .colab-df-quickchart {\n",
              "      --bg-color: #3B4455;\n",
              "      --fill-color: #D2E3FC;\n",
              "      --hover-bg-color: #434B5C;\n",
              "      --hover-fill-color: #FFFFFF;\n",
              "      --disabled-bg-color: #3B4455;\n",
              "      --disabled-fill-color: #666;\n",
              "  }\n",
              "\n",
              "  .colab-df-quickchart {\n",
              "    background-color: var(--bg-color);\n",
              "    border: none;\n",
              "    border-radius: 50%;\n",
              "    cursor: pointer;\n",
              "    display: none;\n",
              "    fill: var(--fill-color);\n",
              "    height: 32px;\n",
              "    padding: 0;\n",
              "    width: 32px;\n",
              "  }\n",
              "\n",
              "  .colab-df-quickchart:hover {\n",
              "    background-color: var(--hover-bg-color);\n",
              "    box-shadow: 0 1px 2px rgba(60, 64, 67, 0.3), 0 1px 3px 1px rgba(60, 64, 67, 0.15);\n",
              "    fill: var(--button-hover-fill-color);\n",
              "  }\n",
              "\n",
              "  .colab-df-quickchart-complete:disabled,\n",
              "  .colab-df-quickchart-complete:disabled:hover {\n",
              "    background-color: var(--disabled-bg-color);\n",
              "    fill: var(--disabled-fill-color);\n",
              "    box-shadow: none;\n",
              "  }\n",
              "\n",
              "  .colab-df-spinner {\n",
              "    border: 2px solid var(--fill-color);\n",
              "    border-color: transparent;\n",
              "    border-bottom-color: var(--fill-color);\n",
              "    animation:\n",
              "      spin 1s steps(1) infinite;\n",
              "  }\n",
              "\n",
              "  @keyframes spin {\n",
              "    0% {\n",
              "      border-color: transparent;\n",
              "      border-bottom-color: var(--fill-color);\n",
              "      border-left-color: var(--fill-color);\n",
              "    }\n",
              "    20% {\n",
              "      border-color: transparent;\n",
              "      border-left-color: var(--fill-color);\n",
              "      border-top-color: var(--fill-color);\n",
              "    }\n",
              "    30% {\n",
              "      border-color: transparent;\n",
              "      border-left-color: var(--fill-color);\n",
              "      border-top-color: var(--fill-color);\n",
              "      border-right-color: var(--fill-color);\n",
              "    }\n",
              "    40% {\n",
              "      border-color: transparent;\n",
              "      border-right-color: var(--fill-color);\n",
              "      border-top-color: var(--fill-color);\n",
              "    }\n",
              "    60% {\n",
              "      border-color: transparent;\n",
              "      border-right-color: var(--fill-color);\n",
              "    }\n",
              "    80% {\n",
              "      border-color: transparent;\n",
              "      border-right-color: var(--fill-color);\n",
              "      border-bottom-color: var(--fill-color);\n",
              "    }\n",
              "    90% {\n",
              "      border-color: transparent;\n",
              "      border-bottom-color: var(--fill-color);\n",
              "    }\n",
              "  }\n",
              "</style>\n",
              "\n",
              "  <script>\n",
              "    async function quickchart(key) {\n",
              "      const quickchartButtonEl =\n",
              "        document.querySelector('#' + key + ' button');\n",
              "      quickchartButtonEl.disabled = true;  // To prevent multiple clicks.\n",
              "      quickchartButtonEl.classList.add('colab-df-spinner');\n",
              "      try {\n",
              "        const charts = await google.colab.kernel.invokeFunction(\n",
              "            'suggestCharts', [key], {});\n",
              "      } catch (error) {\n",
              "        console.error('Error during call to suggestCharts:', error);\n",
              "      }\n",
              "      quickchartButtonEl.classList.remove('colab-df-spinner');\n",
              "      quickchartButtonEl.classList.add('colab-df-quickchart-complete');\n",
              "    }\n",
              "    (() => {\n",
              "      let quickchartButtonEl =\n",
              "        document.querySelector('#df-ad43de27-8e30-4063-820d-b9929db0296c button');\n",
              "      quickchartButtonEl.style.display =\n",
              "        google.colab.kernel.accessAllowed ? 'block' : 'none';\n",
              "    })();\n",
              "  </script>\n",
              "</div>\n",
              "\n",
              "    </div>\n",
              "  </div>\n"
            ],
            "application/vnd.google.colaboratory.intrinsic+json": {
              "type": "dataframe",
              "variable_name": "train_df",
              "summary": "{\n  \"name\": \"train_df\",\n  \"rows\": 26361,\n  \"fields\": [\n    {\n      \"column\": \"comment\",\n      \"properties\": {\n        \"dtype\": \"string\",\n        \"num_unique_values\": 25358,\n        \"samples\": [\n          \"\\u09a6\\u09be\\u09a6\\u09be \\u099c\\u09be\\u09a8\\u09bf \\u09a8\\u09be \\u09a4\\u09cb\\u09ae\\u09be\\u09b0 \\u098f\\u0987 \\u09ad\\u09bf\\u09a1\\u09bf\\u0993\\u099f\\u09be \\u09b8\\u09ae\\u09cd\\u09aa\\u09c2\\u09b0\\u09cd\\u09a3 \\u0995\\u09b0\\u09a4\\u09c7 \\u0995\\u09a4 \\u09aa\\u09b0\\u09bf\\u09b6\\u09cd\\u09b0\\u09ae \\u0986\\u09b0 \\u09b8\\u09ae\\u09df \\u09a6\\u09bf\\u09a4\\u09c7 \\u09b9\\u09df\\u09c7\\u099b\\u09c7...\\n\\u09ab\\u09b2 \\u09b9\\u09bf\\u09b8\\u09c7\\u09ac\\u09c7 \\u09ad\\u09bf\\u09a1\\u09bf\\u0993\\u09b0 \\u09aa\\u09cd\\u09b0\\u09a4\\u09bf \\u09b8\\u09c7\\u0995\\u09c7\\u09a8\\u09cd\\u09a1\\u09c7 \\u0986\\u09ae\\u09be\\u09b0 \\u09ae\\u09c1\\u0996\\u09c7\\u09b0 \\u09b8\\u09be\\u09a5\\u09c7 \\u09b8\\u09be\\u09a5\\u09c7 \\u09aa\\u09bf\\u099b\\u09a8\\u09c7\\u09b0 \\u09a6\\u09bf\\u0995 \\u09a6\\u09bf\\u09df\\u09c7  \\u09b9\\u09be\\u09b8\\u09bf\\u09b8\\u09b9 \\u09ac\\u09be\\u09a4\\u09be\\u09b8 \\u09ac\\u09c7\\u09b0 \\u09b9\\u09df\\u09c7\\u099b\\u09c7...\\n\\u09ad\\u09be\\u09b2\\u09cb\\u09ac\\u09be\\u09b8\\u09be \\u09b0\\u0987\\u09b2\\u2764\\n\\u09ac\\u09be\\u0982\\u09b2\\u09be\\u09a6\\u09c7\\u09b6 \\u09a5\\u09c7\\u0995\\u09c7...\",\n          \"\\u0986\\u09ae\\u09bf \\u09ab\\u09cd\\u09b2\\u09cd\\u09af\\u09be\\u09ac \\u09a5\\u09c7\\u0995\\u09c7 \\u09ab\\u09be\\u09ac\\u09c7\\u09b0 \\u09aa\\u09c7\\u0987\\u099c \\u099f\\u09be\\u0987\\u099f\\u09c7\\u09b2 \\u09ac\\u09cd\\u09b2\\u0997 \\u0995\\u09b0\\u09be\\u09b0 \\u09aa\\u09cd\\u09b0\\u09af\\u09bc\\u09cb\\u099c\\u09a8\\u09c0\\u09af\\u09bc\\u09a4\\u09be \\u0985\\u09a8\\u09c1\\u09ad\\u09ac \\u0995\\u09b0\\u09bf\",\n          \"\\u09b8\\u09c1\\u09b2\\u09c7\\u09a8\\u09c7\\u09b0 \\u099c\\u09a8\\u09cd\\u09af \\u098f\\u0995\\u099f\\u09bf \\u0989\\u0987\\u0982\\u09a1 \\u09ac\\u09bf\\u099c\\u09af\\u09bc \\u09b8\\u09be\\u0989\\u09a8\\u09cd\\u09a1 \\u099a\\u09c7\\u0995 \\u0995\\u09b0\\u099b\\u09c7  \\u09a4\\u09be\\u09a6\\u09c7\\u09b0 \\u098f\\u0995\\u099f\\u09bf \\u09b8\\u09cd\\u099f\\u09cd\\u09b0\\u09bf\\u0982 \\u09ac\\u09bf\\u09ad\\u09be\\u0997 \\u098f\\u09ac\\u0982 \\u09ad\\u09bf\\u099c\\u09cd\\u09af\\u09c1\\u09af\\u09bc\\u09be\\u09b2   \\u098f\\u09b2\\u099c\\u09bf\\u09a1\\u09ac\\u09cd\\u09b2\\u09bf\\u0989      \\u099f\\u09c7\\u0995\\u09cb \\u09b8\\u09b9 \\u09a6\\u09c1\\u099f\\u09bf \\u09b8\\u09cd\\u0995\\u09cd\\u09b0\\u09bf\\u09a8 \\u09b0\\u09af\\u09bc\\u09c7\\u099b\\u09c7\"\n        ],\n        \"semantic_type\": \"\",\n        \"description\": \"\"\n      }\n    },\n    {\n      \"column\": \"comment_type\",\n      \"properties\": {\n        \"dtype\": \"category\",\n        \"num_unique_values\": 6,\n        \"samples\": [\n          \"fear\",\n          \"disgust\",\n          \"anger\"\n        ],\n        \"semantic_type\": \"\",\n        \"description\": \"\"\n      }\n    },\n    {\n      \"column\": \"cleaned\",\n      \"properties\": {\n        \"dtype\": \"string\",\n        \"num_unique_values\": 25168,\n        \"samples\": [\n          \"\\u0986\\u09ae\\u09be\\u09b0 \\u09ac\\u09be\\u09ac\\u09be \\u0986\\u099c \\u09ac\\u09be\\u09a1\\u09bc\\u09bf\\u09a4\\u09c7 \\u0986\\u09b8\\u09c7\\u09a8 \\u098f\\u09ac\\u0982 \\u0986\\u09ae\\u09b0\\u09be \\u09a4\\u09be\\u0995\\u09c7 \\u0995\\u0996\\u09a8\\u0987 \\u09ac\\u09b2\\u09bf\\u09a8\\u09bf \\u09af\\u09c7 \\u0986\\u09ae\\u09bf \\u098f\\u0995\\u099f\\u09bf \\u09a8\\u09a4\\u09c1\\u09a8 \\u09ac\\u09bf\\u09a1\\u09bc\\u09be\\u09b2\\u099b\\u09be\\u09a8\\u09be \\u09aa\\u09c7\\u09af\\u09bc\\u09c7\\u099b\\u09bf      \\u09a6\\u09c1\\u099c\\u09a8\\u0995\\u09c7 \\u099b\\u09c7\\u09a1\\u09bc\\u09c7 \\u09a6\\u09be\\u0993  \\u0986\\u09b8\\u09c1\\u09a8 \\u09a6\\u09c7\\u0996\\u09c1\\u09a8 \\u0995\\u09bf\\u09ad\\u09be\\u09ac\\u09c7 \\u098f\\u099f\\u09bf \\u09af\\u09be\\u09af\\u09bc \",\n          \"\\u0986\\u09ae\\u09bf \\u09a8\\u09bf\\u099c\\u09c7\\u0995\\u09c7 \\u09ac\\u09be \\u0985\\u09a8\\u09cd\\u09af \\u0995\\u09be\\u0989\\u0995\\u09c7\\u0987 \\u09a6\\u09cb\\u09b7 \\u09a6\\u09bf\\u09a4\\u09c7 \\u09aa\\u09be\\u09b0\\u09bf \\u09a8\\u09be  \\u09af\\u0996\\u09a8\\u0987 \\u0986\\u09ae\\u09bf \\u09ae\\u09a8\\u09c7 \\u0995\\u09b0\\u09bf \\u09ae\\u09a8\\u09c7 \\u0995\\u09b0\\u09bf \\u098f\\u099f\\u09bf \\u0986\\u09ae\\u09be\\u09b0 \\u09b8\\u09ae\\u09b8\\u09cd\\u09a4 \\u09a6\\u09cb\\u09b7 \\u099b\\u09bf\\u09b2 \\u09a4\\u0996\\u09a8 \\u0986\\u09ae\\u09bf \\u0986\\u09ac\\u09be\\u09b0\\u0993 \\u09a6\\u09c1  \\u0996\\u09bf\\u09a4 \\u0995\\u09be\\u09a8\\u09cd\\u09a8\\u09be\\u09b0 \\u0985\\u09a8\\u09c1\\u09ad\\u09c2\\u09a4\\u09bf\\u099f\\u09bf \\u0995\\u09be\\u099f\\u09bf\\u09af\\u09bc\\u09c7\\u099b\\u09bf    \",\n          \"\\u0986\\u09ae\\u09bf \\u09ac\\u09cd\\u09af\\u0995\\u09cd\\u09a4\\u09bf\\u0997\\u09a4\\u09ad\\u09be\\u09ac\\u09c7 \\u0995\\u09bf\\u099b\\u09c1\\u099f\\u09be \\u09ac\\u09bf\\u0995\\u09cd\\u09b7\\u09c1\\u09ac\\u09cd\\u09a7 \\u09ac\\u09cb\\u09a7 \\u0995\\u09b0\\u09bf \\u0986\\u09ae\\u09bf \\u09ac\\u09bf\\u09b6\\u09c7\\u09b7\\u09a4 \\u09a4\\u09bf\\u09a8\\u099f\\u09bf \\u09a6\\u09c1\\u09b0\\u09cd\\u0997\\u09c7 \\u09ae\\u09b8\\u09cd\\u09a4\\u09bf\\u09b7\\u09cd\\u0995\\u09c7 \\u099c\\u09a1\\u09bc\\u09cb \\u09b9\\u0993\\u09af\\u09bc\\u09be \\u09b8\\u09b9\\u09b8\\u09cd\\u09b0\\u09be\\u09ac\\u09cd\\u09a6\\u0995\\u09c7 \\u09b0\\u09c7\\u0996\\u09c7\\u099b\\u09bf\"\n        ],\n        \"semantic_type\": \"\",\n        \"description\": \"\"\n      }\n    }\n  ]\n}"
            }
          },
          "metadata": {},
          "execution_count": 11
        }
      ]
    },
    {
      "source": [
        "train_df = train_df.drop(columns=[\"comment\"])"
      ],
      "cell_type": "code",
      "metadata": {
        "id": "7laWvTPQdMBA"
      },
      "execution_count": null,
      "outputs": []
    },
    {
      "cell_type": "code",
      "source": [
        "train_df.head()"
      ],
      "metadata": {
        "id": "WOvKa9Q-7FLf"
      },
      "execution_count": null,
      "outputs": []
    },
    {
      "cell_type": "code",
      "source": [
        "val_df['cleaned'] = val_df['comment'].apply(process_reviews,stopwords = stopwords_list,removing_stopwords = False)"
      ],
      "metadata": {
        "id": "tbEiViKCM9AC"
      },
      "execution_count": null,
      "outputs": []
    },
    {
      "cell_type": "code",
      "source": [
        "val_df[['cleaned','comment_type']].to_excel('clean_reviews_test.xlsx')"
      ],
      "metadata": {
        "id": "DEOdy2YPM_yS"
      },
      "execution_count": null,
      "outputs": []
    },
    {
      "cell_type": "code",
      "source": [
        "val_df = val_df.drop(columns=[\"comment\"])"
      ],
      "metadata": {
        "id": "oUQWAqAyNJLE"
      },
      "execution_count": null,
      "outputs": []
    },
    {
      "cell_type": "code",
      "source": [
        "## split to train and val\n",
        "# train_df, val_df = train_test_split(data, test_size=0.2, random_state=4021)\n",
        "# val_df.reset_index(drop=True)"
      ],
      "metadata": {
        "id": "R6m8sZNQdm0G"
      },
      "execution_count": null,
      "outputs": []
    },
    {
      "cell_type": "markdown",
      "source": [
        "**Model Train**"
      ],
      "metadata": {
        "id": "ybQ3lM85mNH9"
      }
    },
    {
      "cell_type": "code",
      "source": [
        "# tfidf_vc = TfidfVectorizer(min_df = 10, max_features = 100000, analyzer = \"word\", ngram_range = (1, 2), lowercase = True)\n",
        "tfidf_vc = TfidfVectorizer(min_df = 10, max_features = 100000, analyzer = \"word\", ngram_range = (1, 2), lowercase = True)\n",
        "train_vc = tfidf_vc.fit_transform(train_df[\"cleaned\"])\n",
        "val_vc = tfidf_vc.transform(val_df[\"cleaned\"])\n"
      ],
      "metadata": {
        "id": "c3XLrb6idtPu"
      },
      "execution_count": null,
      "outputs": []
    },
    {
      "cell_type": "code",
      "source": [
        "from sklearn.metrics import accuracy_score, precision_score, recall_score, f1_score\n",
        "from sklearn.model_selection import GridSearchCV"
      ],
      "metadata": {
        "id": "t43o8xJ0kuCB"
      },
      "execution_count": null,
      "outputs": []
    },
    {
      "cell_type": "code",
      "source": [
        "from sklearn.linear_model import LogisticRegression"
      ],
      "metadata": {
        "id": "BUJvgutmeWbM"
      },
      "execution_count": null,
      "outputs": []
    },
    {
      "cell_type": "code",
      "source": [
        "param_grid = {\n",
        "    'C': [0.1, 0.5, 1, 2],\n",
        "    'solver': ['newton-cg', 'lbfgs', 'liblinear', 'sag', 'saga'],\n",
        "}"
      ],
      "metadata": {
        "id": "35Mp0IEmnP2C"
      },
      "execution_count": null,
      "outputs": []
    },
    {
      "cell_type": "code",
      "source": [
        "model = LogisticRegression()"
      ],
      "metadata": {
        "id": "d_81liWGnSWR"
      },
      "execution_count": null,
      "outputs": []
    },
    {
      "cell_type": "code",
      "source": [
        "grid_search = GridSearchCV(model, param_grid, cv=5)\n",
        "grid_search.fit(train_vc, train_df.comment_type)"
      ],
      "metadata": {
        "id": "RKQoz4q2nTWh"
      },
      "execution_count": null,
      "outputs": []
    },
    {
      "cell_type": "code",
      "source": [
        "lr_best_model = grid_search.best_estimator_\n",
        "lr_best_params = grid_search.best_params_"
      ],
      "metadata": {
        "id": "kqvKH2O_nYiJ"
      },
      "execution_count": null,
      "outputs": []
    },
    {
      "cell_type": "code",
      "source": [
        "import pickle\n",
        "\n",
        "with open('lr_best_model.pkl', 'wb') as file:\n",
        "    pickle.dump(lr_best_model, file)"
      ],
      "metadata": {
        "id": "OEXjj_l8nego"
      },
      "execution_count": null,
      "outputs": []
    },
    {
      "cell_type": "code",
      "source": [
        "val_pred = lr_best_model.predict(val_vc)"
      ],
      "metadata": {
        "id": "exkcUvNRn8sw"
      },
      "execution_count": null,
      "outputs": []
    },
    {
      "cell_type": "code",
      "source": [
        "val_acc = accuracy_score(val_df.comment_type, val_pred)\n",
        "val_precision = precision_score(val_df.comment_type, val_pred, average=\"macro\")\n",
        "val_recall = recall_score(val_df.comment_type, val_pred, average=\"macro\")\n",
        "val_f1 = f1_score(val_df.comment_type, val_pred, average=\"macro\")"
      ],
      "metadata": {
        "id": "rHt8g3ZJoPq-"
      },
      "execution_count": null,
      "outputs": []
    },
    {
      "cell_type": "code",
      "source": [
        "print('LR')\n",
        "print(\"Accuracy:\", val_acc)\n",
        "print(\"Precision:\", val_precision)\n",
        "print(\"Recall:\", val_recall)\n",
        "print(\"F1 score:\", val_f1)"
      ],
      "metadata": {
        "id": "nzMledQzoUP7"
      },
      "execution_count": null,
      "outputs": []
    },
    {
      "cell_type": "code",
      "source": [
        "from sklearn.ensemble import RandomForestClassifier"
      ],
      "metadata": {
        "id": "ZeqkV4XoqLDK"
      },
      "execution_count": null,
      "outputs": []
    },
    {
      "cell_type": "code",
      "source": [
        "param_grid = {\n",
        "    'n_estimators': [50, 100, 200],\n",
        "    'max_depth': [None, 5, 10],\n",
        "    'min_samples_split': [2, 5, 10],\n",
        "    'min_samples_leaf': [1, 2, 4]\n",
        "}"
      ],
      "metadata": {
        "id": "d1VNxFUUqDvi"
      },
      "execution_count": null,
      "outputs": []
    },
    {
      "cell_type": "code",
      "source": [
        "model = RandomForestClassifier()\n",
        "grid_search = GridSearchCV(model, param_grid, cv=5)\n",
        "grid_search.fit(train_vc, train_df.comment_type)"
      ],
      "metadata": {
        "id": "xtZE86b1qNzx"
      },
      "execution_count": null,
      "outputs": []
    },
    {
      "cell_type": "code",
      "source": [
        "rf_best_model = grid_search.best_estimator_"
      ],
      "metadata": {
        "id": "Dae435-nqfXh"
      },
      "execution_count": null,
      "outputs": []
    },
    {
      "cell_type": "code",
      "source": [
        "print(grid_search.best_params_)"
      ],
      "metadata": {
        "id": "6vBguPVdOuPa"
      },
      "execution_count": null,
      "outputs": []
    },
    {
      "cell_type": "code",
      "source": [
        "with open('rf_best_model.pkl', 'wb') as file:\n",
        "    pickle.dump(rf_best_model, file)"
      ],
      "metadata": {
        "id": "0XkwGZZhqkmQ"
      },
      "execution_count": null,
      "outputs": []
    },
    {
      "cell_type": "code",
      "source": [
        "with open('rf_best_model.pkl', 'rb') as file:\n",
        "    best_model_rf = pickle.load(file)\n",
        "\n",
        "val_pred_rf = rf_best_model.predict(val_vc)\n",
        "\n",
        "val_acc_rf = accuracy_score(val_df.comment_type, val_pred_rf)\n",
        "val_precision_rf = precision_score(val_df.comment_type, val_pred_rf, average=\"macro\")\n",
        "val_recall_rf = recall_score(val_df.comment_type, val_pred_rf, average=\"macro\")\n",
        "val_f1_rf = f1_score(val_df.comment_type, val_pred_rf, average=\"macro\")\n",
        "\n",
        "print(\"Random Forest:\")\n",
        "print(\"- Accuracy:\", val_acc_rf)\n",
        "print(\"- Precision:\", val_precision_rf)\n",
        "print(\"- Recall:\", val_recall_rf)\n",
        "print(\"- F1 score:\", val_f1_rf)"
      ],
      "metadata": {
        "id": "7e1ICIPxqslE"
      },
      "execution_count": null,
      "outputs": []
    },
    {
      "cell_type": "code",
      "source": [
        "from sklearn.svm import SVC\n",
        "\n",
        "param_grid = {\n",
        "    'kernel': ['linear', 'poly', 'rbf', 'sigmoid'],\n",
        "    'C': [0.1, 1, 1],\n",
        "    'gamma': ['scale', 'auto']\n",
        "}"
      ],
      "metadata": {
        "id": "MBSIE7wxsJai"
      },
      "execution_count": null,
      "outputs": []
    },
    {
      "cell_type": "code",
      "source": [
        "model = SVC()\n",
        "grid_search = GridSearchCV(model, param_grid, cv=5)\n",
        "grid_search.fit(train_vc, train_df.comment_type)"
      ],
      "metadata": {
        "id": "tBOQYck7sU-q"
      },
      "execution_count": null,
      "outputs": []
    },
    {
      "cell_type": "code",
      "source": [
        "best_model_svm = grid_search.best_estimator_\n",
        "\n",
        "with open('best_model_svm.pkl', 'wb') as file:\n",
        "    pickle.dump(best_model_svm, file)"
      ],
      "metadata": {
        "id": "WVOuloACsY6V"
      },
      "execution_count": null,
      "outputs": []
    },
    {
      "cell_type": "code",
      "source": [
        "with open('best_model_svm.pkl', 'rb') as file:\n",
        "    best_model_svm = pickle.load(file)\n",
        "\n",
        "val_pred_svm = best_model_svm.predict(val_vc)\n",
        "\n",
        "val_acc_svm = accuracy_score(val_df.comment_type, val_pred_svm)\n",
        "val_precision_svm = precision_score(val_df.comment_type, val_pred_svm, average=\"macro\")\n",
        "val_recall_svm = recall_score(val_df.comment_type, val_pred_svm, average=\"macro\")\n",
        "val_f1_svm = f1_score(val_df.comment_type, val_pred_svm, average=\"macro\")\n",
        "\n",
        "print(\"\\nSVM:\")\n",
        "print(\"- Accuracy:\", val_acc_svm)\n",
        "print(\"- Precision:\", val_precision_svm)\n",
        "print(\"- Recall:\", val_recall_svm)\n",
        "print(\"- F1 score:\", val_f1_svm)"
      ],
      "metadata": {
        "id": "vefhx3J-sayC"
      },
      "execution_count": null,
      "outputs": []
    },
    {
      "cell_type": "code",
      "source": [
        "from sklearn.neighbors import KNeighborsClassifier\n",
        "\n",
        "param_grid = {\n",
        "    'n_neighbors': [3, 5, 7, 9, 11, 13, 15],\n",
        "    'weights': ['uniform', 'distance'],\n",
        "    'algorithm': ['auto', 'ball_tree', 'kd_tree', 'brute']\n",
        "}"
      ],
      "metadata": {
        "id": "ZoWVLHR8tmyd"
      },
      "execution_count": null,
      "outputs": []
    },
    {
      "cell_type": "code",
      "source": [
        "model = KNeighborsClassifier()\n",
        "grid_search = GridSearchCV(model, param_grid, cv=5)\n",
        "grid_search.fit(train_vc, train_df.comment_type)"
      ],
      "metadata": {
        "id": "DyG2TAYBtxr-"
      },
      "execution_count": null,
      "outputs": []
    },
    {
      "cell_type": "code",
      "source": [
        "best_model_knn = grid_search.best_estimator_"
      ],
      "metadata": {
        "id": "CO6V3K4wtp4d"
      },
      "execution_count": null,
      "outputs": []
    },
    {
      "cell_type": "code",
      "source": [
        "with open('best_model_knn.pkl', 'wb') as file:\n",
        "    pickle.dump(best_model_knn, file)"
      ],
      "metadata": {
        "id": "lRrFxf2stq39"
      },
      "execution_count": null,
      "outputs": []
    },
    {
      "cell_type": "code",
      "source": [
        "with open('best_model_knn.pkl', 'rb') as file:\n",
        "    best_model_knn = pickle.load(file)\n",
        "\n",
        "val_pred_knn = best_model_knn.predict(val_vc)\n",
        "\n",
        "val_acc_knn = accuracy_score(val_df.comment_type, val_pred_knn)\n",
        "val_precision_knn = precision_score(val_df.comment_type, val_pred_knn, average=\"macro\")\n",
        "val_recall_knn = recall_score(val_df.comment_type, val_pred_knn, average=\"macro\")\n",
        "val_f1_knn = f1_score(val_df.comment_type, val_pred_knn, average=\"macro\")\n",
        "\n",
        "print(\"\\nKNN:\")\n",
        "print(\"- Accuracy:\", val_acc_knn)\n",
        "print(\"- Precision:\", val_precision_knn)\n",
        "print(\"- Recall:\", val_recall_knn)\n",
        "print(\"- F1 score:\", val_f1_knn)"
      ],
      "metadata": {
        "id": "nB0e9erZtsRk"
      },
      "execution_count": null,
      "outputs": []
    },
    {
      "cell_type": "code",
      "source": [
        "from sklearn.naive_bayes import MultinomialNB\n",
        "\n",
        "param_grid = {\n",
        "    'alpha': [0.5, 1.0, 2.0],\n",
        "    'fit_prior': [True, False]\n",
        "}"
      ],
      "metadata": {
        "id": "ywm3WCcKu0br"
      },
      "execution_count": null,
      "outputs": []
    },
    {
      "cell_type": "code",
      "source": [
        "model = MultinomialNB()\n",
        "grid_search = GridSearchCV(model, param_grid, cv=5)\n",
        "grid_search.fit(train_vc, train_df.comment_type)\n"
      ],
      "metadata": {
        "id": "B4aM5n6ku2tz"
      },
      "execution_count": null,
      "outputs": []
    },
    {
      "cell_type": "code",
      "source": [
        "print(grid_search.best_params_)"
      ],
      "metadata": {
        "id": "5yDq9Y3ZOWUZ"
      },
      "execution_count": null,
      "outputs": []
    },
    {
      "cell_type": "code",
      "source": [
        "best_model_mnb = grid_search.best_estimator_\n",
        "\n",
        "with open('best_model_mnb.pkl', 'wb') as file:\n",
        "    pickle.dump(best_model_mnb, file)"
      ],
      "metadata": {
        "id": "q8LmJqezu5cb"
      },
      "execution_count": null,
      "outputs": []
    },
    {
      "cell_type": "code",
      "source": [
        "from sklearn.naive_bayes import MultinomialNB\n",
        "\n",
        "model_mnb = MultinomialNB()\n",
        "model_mnb.fit(train_vc, train_df.comment_type)\n",
        "val_pred_mnb = model_mnb.predict(val_vc)"
      ],
      "metadata": {
        "id": "pvDsbi3fkXv6"
      },
      "execution_count": null,
      "outputs": []
    },
    {
      "cell_type": "code",
      "source": [
        "with open('best_model_mnb.pkl', 'rb') as file:\n",
        "    best_model_mnb = pickle.load(file)\n",
        "\n",
        "val_pred_mnb = best_model_mnb.predict(val_vc)\n",
        "\n",
        "val_acc_mnb = accuracy_score(val_df.comment_type, val_pred_mnb)\n",
        "val_precision_mnb = precision_score(val_df.comment_type, val_pred_mnb, average=\"macro\")\n",
        "val_recall_mnb = recall_score(val_df.comment_type, val_pred_mnb, average=\"macro\")\n",
        "val_f1_mnb = f1_score(val_df.comment_type, val_pred_mnb, average=\"macro\")\n",
        "\n",
        "print(\"\\nMultinomial Naive Bayes:\")\n",
        "print(\"- Accuracy:\", val_acc_mnb)\n",
        "print(\"- Precision:\", val_precision_mnb)\n",
        "print(\"- Recall:\", val_recall_mnb)\n",
        "print(\"- F1 score:\", val_f1_mnb)"
      ],
      "metadata": {
        "id": "V4M26su3u9Rb"
      },
      "execution_count": null,
      "outputs": []
    },
    {
      "cell_type": "code",
      "source": [
        "# Get the indices of the correct predictions made by the Multinomial Naive Bayes model\n",
        "correct_indices = [i for i in range(len(val_pred_mnb)) if val_pred_mnb[i] == val_df[\"comment_type\"].iloc[i]]\n",
        "\n",
        "# Print the corresponding rows from val_df\n",
        "val_df.iloc[correct_indices]"
      ],
      "metadata": {
        "id": "9q-dq3vMzZon"
      },
      "execution_count": null,
      "outputs": []
    },
    {
      "cell_type": "code",
      "source": [
        "correct_predictions = val_df[val_df[\"comment_type\"] == val_pred_mnb]\n",
        "correct_predictions.to_csv(\"correct_predictions.csv\", index=False)"
      ],
      "metadata": {
        "id": "TP1nWLTe2vxS"
      },
      "execution_count": null,
      "outputs": []
    },
    {
      "cell_type": "code",
      "source": [
        "corr_mnb = pd.read_csv('correct_predictions.csv')\n",
        "corr_mnb"
      ],
      "metadata": {
        "id": "F3S_gfdF7c1M"
      },
      "execution_count": null,
      "outputs": []
    },
    {
      "cell_type": "code",
      "source": [
        "val_df.to_csv(\"val_df.csv\", index=False)"
      ],
      "metadata": {
        "id": "7kyQfHvi2hPc"
      },
      "execution_count": null,
      "outputs": []
    },
    {
      "cell_type": "markdown",
      "source": [
        "**LIME**"
      ],
      "metadata": {
        "id": "baTyDG56maRU"
      }
    },
    {
      "cell_type": "code",
      "source": [
        "class_names = (train_df['comment_type'].unique())"
      ],
      "metadata": {
        "id": "yZLjAVczeq-b"
      },
      "execution_count": null,
      "outputs": []
    },
    {
      "cell_type": "code",
      "source": [
        "class_names"
      ],
      "metadata": {
        "id": "LI2tqpm4gaf2"
      },
      "execution_count": null,
      "outputs": []
    },
    {
      "cell_type": "code",
      "source": [
        "from lime.lime_text import LimeTextExplainer\n",
        "from sklearn.pipeline import make_pipeline"
      ],
      "metadata": {
        "id": "8ojDxZ6_gKFe"
      },
      "execution_count": null,
      "outputs": []
    },
    {
      "cell_type": "code",
      "source": [
        "index_of_ = val_df.index.get_loc(1504)\n",
        "print(index_of_)"
      ],
      "metadata": {
        "id": "zDddGEfQ4FMe"
      },
      "execution_count": null,
      "outputs": []
    },
    {
      "cell_type": "code",
      "source": [
        "for index in val_df.index:\n",
        "    print(index)"
      ],
      "metadata": {
        "id": "0oqGqw933f_g"
      },
      "execution_count": null,
      "outputs": []
    },
    {
      "cell_type": "code",
      "source": [
        "print(val_df.index[1343])"
      ],
      "metadata": {
        "id": "0b4FBNxFvNnJ"
      },
      "execution_count": null,
      "outputs": []
    },
    {
      "cell_type": "code",
      "source": [
        "index_of_ = val_df.index.get_loc(4289)\n",
        "idx = val_df.index[index_of_]\n",
        "c = make_pipeline(tfidf_vc, model_mnb)\n",
        "class_names = class_names\n",
        "explainer = LimeTextExplainer(class_names = class_names)\n",
        "exp = explainer.explain_instance(val_df[\"cleaned\"][idx], c.predict_proba, num_features = 5)\n",
        "\n",
        "print(\"Comment: \\n\", val_df[\"cleaned\"][idx])\n",
        "print(\"Probability (happy) =\", c.predict_proba([val_df[\"cleaned\"][idx]])[0, 0])\n",
        "print(\"Probability (sad) =\", c.predict_proba([val_df[\"cleaned\"][idx]])[0, 1])\n",
        "print(\"Probability (angry) =\", c.predict_proba([val_df[\"cleaned\"][idx]])[0, 2])\n",
        "print(\"Probability (surprise) =\", c.predict_proba([val_df[\"cleaned\"][idx]])[0, 3])\n",
        "print(\"Probability (disgust) =\", c.predict_proba([val_df[\"cleaned\"][idx]])[0, 4])\n",
        "#print(\"Probability (fear) =\", c.predict_proba([val_df[\"cleaned\"][idx]])[0, 5])\n",
        "#print(\"True Class is:\", class_names[val_df[\"comment_type\"][idx]])"
      ],
      "metadata": {
        "id": "APY8hIJ8fBDC"
      },
      "execution_count": null,
      "outputs": []
    },
    {
      "cell_type": "code",
      "source": [
        "exp = explainer.explain_instance(val_df[\"cleaned\"][idx], c.predict_proba, num_features=6, top_labels=2)\n",
        "print(exp.available_labels())"
      ],
      "metadata": {
        "id": "aZABSIBhjjSM"
      },
      "execution_count": null,
      "outputs": []
    },
    {
      "cell_type": "code",
      "source": [
        "exp.show_in_notebook(text=False)"
      ],
      "metadata": {
        "id": "E5C3cZU4jqfU"
      },
      "execution_count": null,
      "outputs": []
    },
    {
      "cell_type": "code",
      "source": [
        "exp.show_in_notebook(text=val_df[\"cleaned\"][idx], labels=(3,))"
      ],
      "metadata": {
        "id": "RB7HIMChj2Z8"
      },
      "execution_count": null,
      "outputs": []
    },
    {
      "cell_type": "code",
      "source": [
        "exp.show_in_notebook(text=False)"
      ],
      "metadata": {
        "id": "PWcq8DYviMDh"
      },
      "execution_count": null,
      "outputs": []
    },
    {
      "cell_type": "code",
      "source": [
        "exp.show_in_notebook(text=val_df[\"cleaned\"][idx], labels=(1,))"
      ],
      "metadata": {
        "id": "kMr2R0vAhL40"
      },
      "execution_count": null,
      "outputs": []
    },
    {
      "cell_type": "code",
      "source": [
        "idx = val_df.index[4]\n",
        "c = make_pipeline(tfidf_vc, model_mnb)\n",
        "class_names = class_names\n",
        "explainer = LimeTextExplainer(class_names = class_names)\n",
        "exp = explainer.explain_instance(val_df[\"cleaned\"][idx], c.predict_proba, num_features = 10)\n",
        "\n",
        "print(\"Comment: \\n\", val_df[\"cleaned\"][idx])\n",
        "print(\"Probability (fear) =\", c.predict_proba([val_df[\"cleaned\"][idx]])[0, 0])\n",
        "print(\"Probability (sad) =\", c.predict_proba([val_df[\"cleaned\"][idx]])[0, 1])\n",
        "print(\"Probability (happy) =\", c.predict_proba([val_df[\"cleaned\"][idx]])[0, 2])\n",
        "print(\"Probability (angry) =\", c.predict_proba([val_df[\"cleaned\"][idx]])[0, 3])\n",
        "print(\"Probability (surprise) =\", c.predict_proba([val_df[\"cleaned\"][idx]])[0, 4])\n",
        "print(\"Probability (disgust) =\", c.predict_proba([val_df[\"cleaned\"][idx]])[0, 5])\n",
        "#print(\"True Class is:\", class_names[val_df[\"comment_type\"][idx]])"
      ],
      "metadata": {
        "id": "WHl2e3Ghyr_O"
      },
      "execution_count": null,
      "outputs": []
    }
  ]
}